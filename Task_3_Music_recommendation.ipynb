{
  "nbformat": 4,
  "nbformat_minor": 0,
  "metadata": {
    "colab": {
      "name": "Task #3 -Music recommendation.ipynb",
      "provenance": [],
      "collapsed_sections": [],
      "authorship_tag": "ABX9TyP884D1rpGMKArCzPCHoOYX",
      "include_colab_link": true
    },
    "kernelspec": {
      "name": "python3",
      "display_name": "Python 3"
    },
    "language_info": {
      "name": "python"
    }
  },
  "cells": [
    {
      "cell_type": "markdown",
      "metadata": {
        "id": "view-in-github",
        "colab_type": "text"
      },
      "source": [
        "<a href=\"https://colab.research.google.com/github/anu-07/LGMVIP-DataScience/blob/main/Task_3_Music_recommendation.ipynb\" target=\"_parent\"><img src=\"https://colab.research.google.com/assets/colab-badge.svg\" alt=\"Open In Colab\"/></a>"
      ]
    },
    {
      "cell_type": "markdown",
      "metadata": {
        "id": "6LSCaS99P5dr"
      },
      "source": [
        "# **LETS GROW MORE**\n",
        "\n",
        "Level 1:**Beginner**\n",
        "\n",
        "Author-**Anushka Mitra**\n",
        "\n",
        "Task 3- **Music recommendation**\n",
        "\n",
        "Dataset- https://www.kaggle.com/c/kkbox-music-recommendation-challenge/data\n",
        "\n",
        "\n",
        "\n"
      ]
    },
    {
      "cell_type": "code",
      "metadata": {
        "id": "54yVpkhLP4gE"
      },
      "source": [
        "import pandas as pd\n",
        "import matplotlib.pyplot as plt\n",
        "get_ipython().run_line_magic('matplotlib', 'inline')\n",
        "import numpy as np \n",
        "import seaborn as sns"
      ],
      "execution_count": null,
      "outputs": []
    },
    {
      "cell_type": "code",
      "metadata": {
        "id": "p4IbaJivf-Pg"
      },
      "source": [
        "def reduce_mem_usage(df):\n",
        "    \"\"\" iterate through all the columns of a dataframe and modify the data type\n",
        "        to reduce memory usage.        \n",
        "    \"\"\"\n",
        "    start_mem = df.memory_usage().sum() / 1024**2\n",
        "    print('Memory usage of dataframe is {:.2f} MB'.format(start_mem))\n",
        "    \n",
        "    for col in df.columns:\n",
        "        col_type = df[col].dtype\n",
        "        \n",
        "        if col_type != object:\n",
        "            c_min = df[col].min()\n",
        "            c_max = df[col].max()\n",
        "            if str(col_type)[:3] == 'int':\n",
        "                if c_min > np.iinfo(np.int8).min and c_max < np.iinfo(np.int8).max:\n",
        "                    df[col] = df[col].astype(np.int8)\n",
        "                elif c_min > np.iinfo(np.int16).min and c_max < np.iinfo(np.int16).max:\n",
        "                    df[col] = df[col].astype(np.int16)\n",
        "                elif c_min > np.iinfo(np.int32).min and c_max < np.iinfo(np.int32).max:\n",
        "                    df[col] = df[col].astype(np.int32)\n",
        "                elif c_min > np.iinfo(np.int64).min and c_max < np.iinfo(np.int64).max:\n",
        "                    df[col] = df[col].astype(np.int64)  \n",
        "            else:\n",
        "                if c_min > np.finfo(np.float16).min and c_max < np.finfo(np.float16).max:\n",
        "                    df[col] = df[col].astype(np.float16)\n",
        "                elif c_min > np.finfo(np.float32).min and c_max < np.finfo(np.float32).max:\n",
        "                    df[col] = df[col].astype(np.float32)\n",
        "                else:\n",
        "                    df[col] = df[col].astype(np.float64)\n",
        "        else:\n",
        "            df[col] = df[col].astype('category')\n",
        "\n",
        "    end_mem = df.memory_usage().sum() / 1024**2\n",
        "    print('Memory usage after optimization is: {:.2f} MB'.format(end_mem))\n",
        "    print('Decreased by {:.1f}%'.format(100 * (start_mem - end_mem) / start_mem))\n",
        "    \n",
        "    return df"
      ],
      "execution_count": null,
      "outputs": []
    },
    {
      "cell_type": "code",
      "metadata": {
        "colab": {
          "base_uri": "https://localhost:8080/"
        },
        "id": "bEx6HDPegASG",
        "outputId": "93574cac-baa6-4fab-a232-e25b11e931b6"
      },
      "source": [
        "train = reduce_mem_usage(pd.read_csv('train.csv'))\n",
        "#test = reduce_mem_usage(pd.read_csv('test.csv'))\n",
        "ext_song = reduce_mem_usage(pd.read_csv('song_extra_info.csv'))\n",
        "members = (pd.read_csv('members.csv',parse_dates=['registration_init_time','expiration_date']))\n",
        "songs = reduce_mem_usage(pd.read_csv('songs.csv'))"
      ],
      "execution_count": null,
      "outputs": [
        {
          "output_type": "stream",
          "name": "stdout",
          "text": [
            "Memory usage of dataframe is 2.14 MB\n",
            "Memory usage after optimization is: 1.35 MB\n",
            "Decreased by 37.0%\n",
            "Memory usage of dataframe is 0.94 MB\n",
            "Memory usage after optimization is: 5.07 MB\n",
            "Decreased by -441.2%\n",
            "Memory usage of dataframe is 2.26 MB\n",
            "Memory usage after optimization is: 4.15 MB\n",
            "Decreased by -83.9%\n"
          ]
        }
      ]
    },
    {
      "cell_type": "code",
      "metadata": {
        "colab": {
          "base_uri": "https://localhost:8080/",
          "height": 261
        },
        "id": "ugn8T7L0gRUo",
        "outputId": "32c4f748-8c98-40a7-e71b-b3c592f7cc64"
      },
      "source": [
        "train.head()"
      ],
      "execution_count": null,
      "outputs": [
        {
          "output_type": "execute_result",
          "data": {
            "text/html": [
              "<div>\n",
              "<style scoped>\n",
              "    .dataframe tbody tr th:only-of-type {\n",
              "        vertical-align: middle;\n",
              "    }\n",
              "\n",
              "    .dataframe tbody tr th {\n",
              "        vertical-align: top;\n",
              "    }\n",
              "\n",
              "    .dataframe thead th {\n",
              "        text-align: right;\n",
              "    }\n",
              "</style>\n",
              "<table border=\"1\" class=\"dataframe\">\n",
              "  <thead>\n",
              "    <tr style=\"text-align: right;\">\n",
              "      <th></th>\n",
              "      <th>msno</th>\n",
              "      <th>song_id</th>\n",
              "      <th>source_system_tab</th>\n",
              "      <th>source_screen_name</th>\n",
              "      <th>source_type</th>\n",
              "      <th>target</th>\n",
              "    </tr>\n",
              "  </thead>\n",
              "  <tbody>\n",
              "    <tr>\n",
              "      <th>0</th>\n",
              "      <td>FGtllVqz18RPiwJj/edr2gV78zirAiY/9SmYvia+kCg=</td>\n",
              "      <td>BBzumQNXUHKdEBOB7mAJuzok+IJA1c2Ryg/yzTF6tik=</td>\n",
              "      <td>explore</td>\n",
              "      <td>Explore</td>\n",
              "      <td>online-playlist</td>\n",
              "      <td>1.0</td>\n",
              "    </tr>\n",
              "    <tr>\n",
              "      <th>1</th>\n",
              "      <td>Xumu+NIjS6QYVxDS4/t3SawvJ7viT9hPKXmf0RtLNx8=</td>\n",
              "      <td>bhp/MpSNoqoxOIB+/l8WPqu6jldth4DIpCm3ayXnJqM=</td>\n",
              "      <td>my library</td>\n",
              "      <td>Local playlist more</td>\n",
              "      <td>local-playlist</td>\n",
              "      <td>1.0</td>\n",
              "    </tr>\n",
              "    <tr>\n",
              "      <th>2</th>\n",
              "      <td>Xumu+NIjS6QYVxDS4/t3SawvJ7viT9hPKXmf0RtLNx8=</td>\n",
              "      <td>JNWfrrC7zNN7BdMpsISKa4Mw+xVJYNnxXh3/Epw7QgY=</td>\n",
              "      <td>my library</td>\n",
              "      <td>Local playlist more</td>\n",
              "      <td>local-playlist</td>\n",
              "      <td>1.0</td>\n",
              "    </tr>\n",
              "    <tr>\n",
              "      <th>3</th>\n",
              "      <td>Xumu+NIjS6QYVxDS4/t3SawvJ7viT9hPKXmf0RtLNx8=</td>\n",
              "      <td>2A87tzfnJTSWqD7gIZHisolhe4DMdzkbd6LzO1KHjNs=</td>\n",
              "      <td>my library</td>\n",
              "      <td>Local playlist more</td>\n",
              "      <td>local-playlist</td>\n",
              "      <td>1.0</td>\n",
              "    </tr>\n",
              "    <tr>\n",
              "      <th>4</th>\n",
              "      <td>FGtllVqz18RPiwJj/edr2gV78zirAiY/9SmYvia+kCg=</td>\n",
              "      <td>3qm6XTZ6MOCU11x8FIVbAGH5l5uMkT3/ZalWG1oo2Gc=</td>\n",
              "      <td>explore</td>\n",
              "      <td>Explore</td>\n",
              "      <td>online-playlist</td>\n",
              "      <td>1.0</td>\n",
              "    </tr>\n",
              "  </tbody>\n",
              "</table>\n",
              "</div>"
            ],
            "text/plain": [
              "                                           msno  ... target\n",
              "0  FGtllVqz18RPiwJj/edr2gV78zirAiY/9SmYvia+kCg=  ...    1.0\n",
              "1  Xumu+NIjS6QYVxDS4/t3SawvJ7viT9hPKXmf0RtLNx8=  ...    1.0\n",
              "2  Xumu+NIjS6QYVxDS4/t3SawvJ7viT9hPKXmf0RtLNx8=  ...    1.0\n",
              "3  Xumu+NIjS6QYVxDS4/t3SawvJ7viT9hPKXmf0RtLNx8=  ...    1.0\n",
              "4  FGtllVqz18RPiwJj/edr2gV78zirAiY/9SmYvia+kCg=  ...    1.0\n",
              "\n",
              "[5 rows x 6 columns]"
            ]
          },
          "metadata": {},
          "execution_count": 355
        }
      ]
    },
    {
      "cell_type": "code",
      "metadata": {
        "colab": {
          "base_uri": "https://localhost:8080/"
        },
        "id": "DutTyFahgZhm",
        "outputId": "eeda97de-1db9-4ccc-fc86-a2f18814e0c8"
      },
      "source": [
        "train.info()"
      ],
      "execution_count": null,
      "outputs": [
        {
          "output_type": "stream",
          "name": "stdout",
          "text": [
            "<class 'pandas.core.frame.DataFrame'>\n",
            "RangeIndex: 46827 entries, 0 to 46826\n",
            "Data columns (total 6 columns):\n",
            " #   Column              Non-Null Count  Dtype   \n",
            "---  ------              --------------  -----   \n",
            " 0   msno                46827 non-null  category\n",
            " 1   song_id             46826 non-null  category\n",
            " 2   source_system_tab   46713 non-null  category\n",
            " 3   source_screen_name  45176 non-null  category\n",
            " 4   source_type         46756 non-null  category\n",
            " 5   target              46826 non-null  float16 \n",
            "dtypes: category(5), float16(1)\n",
            "memory usage: 1.4 MB\n"
          ]
        }
      ]
    },
    {
      "cell_type": "code",
      "metadata": {
        "colab": {
          "base_uri": "https://localhost:8080/",
          "height": 330
        },
        "id": "YdYl6SxAgmvv",
        "outputId": "59f7b9bc-9a79-41e8-e0aa-d2d24edbe22a"
      },
      "source": [
        "songs.head()"
      ],
      "execution_count": null,
      "outputs": [
        {
          "output_type": "execute_result",
          "data": {
            "text/html": [
              "<div>\n",
              "<style scoped>\n",
              "    .dataframe tbody tr th:only-of-type {\n",
              "        vertical-align: middle;\n",
              "    }\n",
              "\n",
              "    .dataframe tbody tr th {\n",
              "        vertical-align: top;\n",
              "    }\n",
              "\n",
              "    .dataframe thead th {\n",
              "        text-align: right;\n",
              "    }\n",
              "</style>\n",
              "<table border=\"1\" class=\"dataframe\">\n",
              "  <thead>\n",
              "    <tr style=\"text-align: right;\">\n",
              "      <th></th>\n",
              "      <th>song_id</th>\n",
              "      <th>song_length</th>\n",
              "      <th>genre_ids</th>\n",
              "      <th>artist_name</th>\n",
              "      <th>composer</th>\n",
              "      <th>lyricist</th>\n",
              "      <th>language</th>\n",
              "    </tr>\n",
              "  </thead>\n",
              "  <tbody>\n",
              "    <tr>\n",
              "      <th>0</th>\n",
              "      <td>CXoTN1eb7AI+DntdU1vbcwGRV4SCIDxZu+YD8JP8r4E=</td>\n",
              "      <td>247640</td>\n",
              "      <td>465</td>\n",
              "      <td>張信哲 (Jeff Chang)</td>\n",
              "      <td>董貞</td>\n",
              "      <td>何啟弘</td>\n",
              "      <td>3.0</td>\n",
              "    </tr>\n",
              "    <tr>\n",
              "      <th>1</th>\n",
              "      <td>o0kFgae9QtnYgRkVPqLJwa05zIhRlUjfF7O1tDw0ZDU=</td>\n",
              "      <td>197328</td>\n",
              "      <td>444</td>\n",
              "      <td>BLACKPINK</td>\n",
              "      <td>TEDDY|  FUTURE BOUNCE|  Bekuh BOOM</td>\n",
              "      <td>TEDDY</td>\n",
              "      <td>31.0</td>\n",
              "    </tr>\n",
              "    <tr>\n",
              "      <th>2</th>\n",
              "      <td>DwVvVurfpuz+XPuFvucclVQEyPqcpUkHR0ne1RQzPs0=</td>\n",
              "      <td>231781</td>\n",
              "      <td>465</td>\n",
              "      <td>SUPER JUNIOR</td>\n",
              "      <td>NaN</td>\n",
              "      <td>NaN</td>\n",
              "      <td>31.0</td>\n",
              "    </tr>\n",
              "    <tr>\n",
              "      <th>3</th>\n",
              "      <td>dKMBWoZyScdxSkihKG+Vf47nc18N9q4m58+b4e7dSSE=</td>\n",
              "      <td>273554</td>\n",
              "      <td>465</td>\n",
              "      <td>S.H.E</td>\n",
              "      <td>湯小康</td>\n",
              "      <td>徐世珍</td>\n",
              "      <td>3.0</td>\n",
              "    </tr>\n",
              "    <tr>\n",
              "      <th>4</th>\n",
              "      <td>W3bqWd3T+VeHFzHAUfARgW9AvVRaF4N5Yzm4Mr6Eo/o=</td>\n",
              "      <td>140329</td>\n",
              "      <td>726</td>\n",
              "      <td>貴族精選</td>\n",
              "      <td>Traditional</td>\n",
              "      <td>Traditional</td>\n",
              "      <td>52.0</td>\n",
              "    </tr>\n",
              "  </tbody>\n",
              "</table>\n",
              "</div>"
            ],
            "text/plain": [
              "                                        song_id  ...  language\n",
              "0  CXoTN1eb7AI+DntdU1vbcwGRV4SCIDxZu+YD8JP8r4E=  ...       3.0\n",
              "1  o0kFgae9QtnYgRkVPqLJwa05zIhRlUjfF7O1tDw0ZDU=  ...      31.0\n",
              "2  DwVvVurfpuz+XPuFvucclVQEyPqcpUkHR0ne1RQzPs0=  ...      31.0\n",
              "3  dKMBWoZyScdxSkihKG+Vf47nc18N9q4m58+b4e7dSSE=  ...       3.0\n",
              "4  W3bqWd3T+VeHFzHAUfARgW9AvVRaF4N5Yzm4Mr6Eo/o=  ...      52.0\n",
              "\n",
              "[5 rows x 7 columns]"
            ]
          },
          "metadata": {},
          "execution_count": 357
        }
      ]
    },
    {
      "cell_type": "code",
      "metadata": {
        "colab": {
          "base_uri": "https://localhost:8080/"
        },
        "id": "BQBwcTZlgrj-",
        "outputId": "c09758c0-cb2a-4e4a-da13-7b657bb5a378"
      },
      "source": [
        "songs.info()"
      ],
      "execution_count": null,
      "outputs": [
        {
          "output_type": "stream",
          "name": "stdout",
          "text": [
            "<class 'pandas.core.frame.DataFrame'>\n",
            "RangeIndex: 42270 entries, 0 to 42269\n",
            "Data columns (total 7 columns):\n",
            " #   Column       Non-Null Count  Dtype   \n",
            "---  ------       --------------  -----   \n",
            " 0   song_id      42270 non-null  category\n",
            " 1   song_length  42270 non-null  int32   \n",
            " 2   genre_ids    41503 non-null  category\n",
            " 3   artist_name  42269 non-null  category\n",
            " 4   composer     24545 non-null  category\n",
            " 5   lyricist     11561 non-null  category\n",
            " 6   language     42269 non-null  float16 \n",
            "dtypes: category(5), float16(1), int32(1)\n",
            "memory usage: 4.2 MB\n"
          ]
        }
      ]
    },
    {
      "cell_type": "code",
      "metadata": {
        "colab": {
          "base_uri": "https://localhost:8080/",
          "height": 206
        },
        "id": "Lb5ZLJZxgyb1",
        "outputId": "b6a3bb12-549e-4d2e-ff5b-1217bffc2e5b"
      },
      "source": [
        "ext_song.head()"
      ],
      "execution_count": null,
      "outputs": [
        {
          "output_type": "execute_result",
          "data": {
            "text/html": [
              "<div>\n",
              "<style scoped>\n",
              "    .dataframe tbody tr th:only-of-type {\n",
              "        vertical-align: middle;\n",
              "    }\n",
              "\n",
              "    .dataframe tbody tr th {\n",
              "        vertical-align: top;\n",
              "    }\n",
              "\n",
              "    .dataframe thead th {\n",
              "        text-align: right;\n",
              "    }\n",
              "</style>\n",
              "<table border=\"1\" class=\"dataframe\">\n",
              "  <thead>\n",
              "    <tr style=\"text-align: right;\">\n",
              "      <th></th>\n",
              "      <th>song_id</th>\n",
              "      <th>name</th>\n",
              "      <th>isrc</th>\n",
              "    </tr>\n",
              "  </thead>\n",
              "  <tbody>\n",
              "    <tr>\n",
              "      <th>0</th>\n",
              "      <td>LP7pLJoJFBvyuUwvu+oLzjT+bI+UeBPURCecJsX1jjs=</td>\n",
              "      <td>我們</td>\n",
              "      <td>TWUM71200043</td>\n",
              "    </tr>\n",
              "    <tr>\n",
              "      <th>1</th>\n",
              "      <td>ClazTFnk6r0Bnuie44bocdNMM3rdlrq0bCGAsGUWcHE=</td>\n",
              "      <td>Let Me Love You</td>\n",
              "      <td>QMZSY1600015</td>\n",
              "    </tr>\n",
              "    <tr>\n",
              "      <th>2</th>\n",
              "      <td>u2ja/bZE3zhCGxvbbOB3zOoUjx27u40cf5g09UXMoKQ=</td>\n",
              "      <td>原諒我</td>\n",
              "      <td>TWA530887303</td>\n",
              "    </tr>\n",
              "    <tr>\n",
              "      <th>3</th>\n",
              "      <td>92Fqsy0+p6+RHe2EoLKjHahORHR1Kq1TBJoClW9v+Ts=</td>\n",
              "      <td>Classic</td>\n",
              "      <td>USSM11301446</td>\n",
              "    </tr>\n",
              "    <tr>\n",
              "      <th>4</th>\n",
              "      <td>0QFmz/+rJy1Q56C1DuYqT9hKKqi5TUqx0sN0IwvoHrw=</td>\n",
              "      <td>愛投羅網</td>\n",
              "      <td>TWA471306001</td>\n",
              "    </tr>\n",
              "  </tbody>\n",
              "</table>\n",
              "</div>"
            ],
            "text/plain": [
              "                                        song_id             name          isrc\n",
              "0  LP7pLJoJFBvyuUwvu+oLzjT+bI+UeBPURCecJsX1jjs=               我們  TWUM71200043\n",
              "1  ClazTFnk6r0Bnuie44bocdNMM3rdlrq0bCGAsGUWcHE=  Let Me Love You  QMZSY1600015\n",
              "2  u2ja/bZE3zhCGxvbbOB3zOoUjx27u40cf5g09UXMoKQ=              原諒我  TWA530887303\n",
              "3  92Fqsy0+p6+RHe2EoLKjHahORHR1Kq1TBJoClW9v+Ts=          Classic  USSM11301446\n",
              "4  0QFmz/+rJy1Q56C1DuYqT9hKKqi5TUqx0sN0IwvoHrw=             愛投羅網  TWA471306001"
            ]
          },
          "metadata": {},
          "execution_count": 359
        }
      ]
    },
    {
      "cell_type": "code",
      "metadata": {
        "colab": {
          "base_uri": "https://localhost:8080/"
        },
        "id": "2Sc38YhWg13n",
        "outputId": "2d83e64c-338a-4d34-9534-55dd00724b2a"
      },
      "source": [
        "ext_song.info()"
      ],
      "execution_count": null,
      "outputs": [
        {
          "output_type": "stream",
          "name": "stdout",
          "text": [
            "<class 'pandas.core.frame.DataFrame'>\n",
            "RangeIndex: 40926 entries, 0 to 40925\n",
            "Data columns (total 3 columns):\n",
            " #   Column   Non-Null Count  Dtype   \n",
            "---  ------   --------------  -----   \n",
            " 0   song_id  40926 non-null  category\n",
            " 1   name     40926 non-null  category\n",
            " 2   isrc     35440 non-null  category\n",
            "dtypes: category(3)\n",
            "memory usage: 5.1 MB\n"
          ]
        }
      ]
    },
    {
      "cell_type": "code",
      "metadata": {
        "colab": {
          "base_uri": "https://localhost:8080/",
          "height": 226
        },
        "id": "NGMb3lIug5Jo",
        "outputId": "7e9be31e-7f43-474c-8f55-6670cc3dea63"
      },
      "source": [
        "members.head()"
      ],
      "execution_count": null,
      "outputs": [
        {
          "output_type": "execute_result",
          "data": {
            "text/html": [
              "<div>\n",
              "<style scoped>\n",
              "    .dataframe tbody tr th:only-of-type {\n",
              "        vertical-align: middle;\n",
              "    }\n",
              "\n",
              "    .dataframe tbody tr th {\n",
              "        vertical-align: top;\n",
              "    }\n",
              "\n",
              "    .dataframe thead th {\n",
              "        text-align: right;\n",
              "    }\n",
              "</style>\n",
              "<table border=\"1\" class=\"dataframe\">\n",
              "  <thead>\n",
              "    <tr style=\"text-align: right;\">\n",
              "      <th></th>\n",
              "      <th>msno</th>\n",
              "      <th>city</th>\n",
              "      <th>bd</th>\n",
              "      <th>gender</th>\n",
              "      <th>registered_via</th>\n",
              "      <th>registration_init_time</th>\n",
              "      <th>expiration_date</th>\n",
              "    </tr>\n",
              "  </thead>\n",
              "  <tbody>\n",
              "    <tr>\n",
              "      <th>0</th>\n",
              "      <td>XQxgAYj3klVKjR3oxPPXYYFp4soD4TuBghkhMTD4oTw=</td>\n",
              "      <td>1</td>\n",
              "      <td>0</td>\n",
              "      <td>NaN</td>\n",
              "      <td>7</td>\n",
              "      <td>2011-08-20</td>\n",
              "      <td>2017-09-20</td>\n",
              "    </tr>\n",
              "    <tr>\n",
              "      <th>1</th>\n",
              "      <td>UizsfmJb9mV54qE9hCYyU07Va97c0lCRLEQX3ae+ztM=</td>\n",
              "      <td>1</td>\n",
              "      <td>0</td>\n",
              "      <td>NaN</td>\n",
              "      <td>7</td>\n",
              "      <td>2015-06-28</td>\n",
              "      <td>2017-06-22</td>\n",
              "    </tr>\n",
              "    <tr>\n",
              "      <th>2</th>\n",
              "      <td>D8nEhsIOBSoE6VthTaqDX8U6lqjJ7dLdr72mOyLya2A=</td>\n",
              "      <td>1</td>\n",
              "      <td>0</td>\n",
              "      <td>NaN</td>\n",
              "      <td>4</td>\n",
              "      <td>2016-04-11</td>\n",
              "      <td>2017-07-12</td>\n",
              "    </tr>\n",
              "    <tr>\n",
              "      <th>3</th>\n",
              "      <td>mCuD+tZ1hERA/o5GPqk38e041J8ZsBaLcu7nGoIIvhI=</td>\n",
              "      <td>1</td>\n",
              "      <td>0</td>\n",
              "      <td>NaN</td>\n",
              "      <td>9</td>\n",
              "      <td>2015-09-06</td>\n",
              "      <td>2015-09-07</td>\n",
              "    </tr>\n",
              "    <tr>\n",
              "      <th>4</th>\n",
              "      <td>q4HRBfVSssAFS9iRfxWrohxuk9kCYMKjHOEagUMV6rQ=</td>\n",
              "      <td>1</td>\n",
              "      <td>0</td>\n",
              "      <td>NaN</td>\n",
              "      <td>4</td>\n",
              "      <td>2017-01-26</td>\n",
              "      <td>2017-06-13</td>\n",
              "    </tr>\n",
              "  </tbody>\n",
              "</table>\n",
              "</div>"
            ],
            "text/plain": [
              "                                           msno  ...  expiration_date\n",
              "0  XQxgAYj3klVKjR3oxPPXYYFp4soD4TuBghkhMTD4oTw=  ...       2017-09-20\n",
              "1  UizsfmJb9mV54qE9hCYyU07Va97c0lCRLEQX3ae+ztM=  ...       2017-06-22\n",
              "2  D8nEhsIOBSoE6VthTaqDX8U6lqjJ7dLdr72mOyLya2A=  ...       2017-07-12\n",
              "3  mCuD+tZ1hERA/o5GPqk38e041J8ZsBaLcu7nGoIIvhI=  ...       2015-09-07\n",
              "4  q4HRBfVSssAFS9iRfxWrohxuk9kCYMKjHOEagUMV6rQ=  ...       2017-06-13\n",
              "\n",
              "[5 rows x 7 columns]"
            ]
          },
          "metadata": {},
          "execution_count": 361
        }
      ]
    },
    {
      "cell_type": "code",
      "metadata": {
        "colab": {
          "base_uri": "https://localhost:8080/"
        },
        "id": "tsl4B3ppg8HO",
        "outputId": "441867c9-90a1-42cd-a2cc-fb85fb83816f"
      },
      "source": [
        "members.info()"
      ],
      "execution_count": null,
      "outputs": [
        {
          "output_type": "stream",
          "name": "stdout",
          "text": [
            "<class 'pandas.core.frame.DataFrame'>\n",
            "RangeIndex: 34403 entries, 0 to 34402\n",
            "Data columns (total 7 columns):\n",
            " #   Column                  Non-Null Count  Dtype         \n",
            "---  ------                  --------------  -----         \n",
            " 0   msno                    34403 non-null  object        \n",
            " 1   city                    34403 non-null  int64         \n",
            " 2   bd                      34403 non-null  int64         \n",
            " 3   gender                  14501 non-null  object        \n",
            " 4   registered_via          34403 non-null  int64         \n",
            " 5   registration_init_time  34403 non-null  datetime64[ns]\n",
            " 6   expiration_date         34403 non-null  datetime64[ns]\n",
            "dtypes: datetime64[ns](2), int64(3), object(2)\n",
            "memory usage: 1.8+ MB\n"
          ]
        }
      ]
    },
    {
      "cell_type": "code",
      "metadata": {
        "colab": {
          "base_uri": "https://localhost:8080/",
          "height": 279
        },
        "id": "nABgCJ0Lg_WP",
        "outputId": "e137181a-d20c-4343-9054-8b54b26d33d3"
      },
      "source": [
        "sns.countplot(y=train['target'],data=train)\n",
        "plt.ylabel('target classes')\n",
        "plt.xlabel('count of each Target ')\n",
        "plt.show()"
      ],
      "execution_count": null,
      "outputs": [
        {
          "output_type": "display_data",
          "data": {
            "image/png": "[encoded data removed]",
            "text/plain": [
              "<Figure size 432x288 with 1 Axes>"
            ]
          },
          "metadata": {
            "needs_background": "light"
          }
        }
      ]
    },
    {
      "cell_type": "code",
      "metadata": {
        "colab": {
          "base_uri": "https://localhost:8080/",
          "height": 279
        },
        "id": "j_8uIOJfhQob",
        "outputId": "643255d9-cbfd-4446-f71b-40d2474b4bc4"
      },
      "source": [
        "sns.countplot(y=train['source_type'],data=train)\n",
        "plt.ylabel('source type ')\n",
        "plt.xlabel('count of each source type')\n",
        "plt.show()"
      ],
      "execution_count": null,
      "outputs": [
        {
          "output_type": "display_data",
          "data": {
            "image/png": "[encoded data removed]",
            "text/plain": [
              "<Figure size 432x288 with 1 Axes>"
            ]
          },
          "metadata": {
            "needs_background": "light"
          }
        }
      ]
    },
    {
      "cell_type": "code",
      "metadata": {
        "id": "euDi8mtwhYcU"
      },
      "source": [
        "#mising values\n",
        "def miss_val(df):\n",
        "    for col in df.columns:\n",
        "        nan_count=df[col].isnull().sum()\n",
        "        total= df.shape[0]\n",
        "        pp= (nan_count/ total )* 100\n",
        "        #print(type(pp))\n",
        "        print(col,'has' ,pp,'% missing values')"
      ],
      "execution_count": null,
      "outputs": []
    },
    {
      "cell_type": "code",
      "metadata": {
        "colab": {
          "base_uri": "https://localhost:8080/"
        },
        "id": "FdjDmvJThd-P",
        "outputId": "c9cd1608-ddd3-4a11-a44f-3425a2bfcae1"
      },
      "source": [
        "print('Training data')\n",
        "miss_val(train)"
      ],
      "execution_count": null,
      "outputs": [
        {
          "output_type": "stream",
          "name": "stdout",
          "text": [
            "Training data\n",
            "msno has 0.0 % missing values\n",
            "song_id has 0.002135520105921797 % missing values\n",
            "source_system_tab has 0.24344929207508487 % missing values\n",
            "source_screen_name has 3.525743694876887 % missing values\n",
            "source_type has 0.1516219275204476 % missing values\n",
            "target has 0.002135520105921797 % missing values\n"
          ]
        }
      ]
    },
    {
      "cell_type": "code",
      "metadata": {
        "colab": {
          "base_uri": "https://localhost:8080/"
        },
        "id": "X11ubTywhxyf",
        "outputId": "abcce106-8316-49ed-e61a-667d48846f0e"
      },
      "source": [
        "print('members  data')\n",
        "miss_val(members)"
      ],
      "execution_count": null,
      "outputs": [
        {
          "output_type": "stream",
          "name": "stdout",
          "text": [
            "members  data\n",
            "msno has 0.0 % missing values\n",
            "city has 0.0 % missing values\n",
            "bd has 0.0 % missing values\n",
            "gender has 57.84960613899951 % missing values\n",
            "registered_via has 0.0 % missing values\n",
            "registration_init_time has 0.0 % missing values\n",
            "expiration_date has 0.0 % missing values\n"
          ]
        }
      ]
    },
    {
      "cell_type": "code",
      "metadata": {
        "colab": {
          "base_uri": "https://localhost:8080/"
        },
        "id": "YdiB1j3Ph1N-",
        "outputId": "6a2ef80b-79dd-4c9f-816e-08a6135c45f9"
      },
      "source": [
        "print('Song data')\n",
        "miss_val(songs)"
      ],
      "execution_count": null,
      "outputs": [
        {
          "output_type": "stream",
          "name": "stdout",
          "text": [
            "Song data\n",
            "song_id has 0.0 % missing values\n",
            "song_length has 0.0 % missing values\n",
            "genre_ids has 1.8145256683226876 % missing values\n",
            "artist_name has 0.0023657440264963333 % missing values\n",
            "composer has 41.932812869647506 % missing values\n",
            "lyricist has 72.64963330967589 % missing values\n",
            "language has 0.0023657440264963333 % missing values\n"
          ]
        }
      ]
    },
    {
      "cell_type": "code",
      "metadata": {
        "colab": {
          "base_uri": "https://localhost:8080/"
        },
        "id": "2hPeKWykh5Df",
        "outputId": "31819d41-5408-4d52-a1c4-47513ca3e827"
      },
      "source": [
        "print('ext_song.info data')\n",
        "miss_val(ext_song)"
      ],
      "execution_count": null,
      "outputs": [
        {
          "output_type": "stream",
          "name": "stdout",
          "text": [
            "ext_song.info data\n",
            "song_id has 0.0 % missing values\n",
            "name has 0.0 % missing values\n",
            "isrc has 13.404681620485755 % missing values\n"
          ]
        }
      ]
    },
    {
      "cell_type": "code",
      "metadata": {
        "colab": {
          "base_uri": "https://localhost:8080/"
        },
        "id": "ZcbEae8ziEQC",
        "outputId": "36068bd4-07e1-4625-c871-c0219054ae84"
      },
      "source": [
        "train['source_system_tab'].value_counts()"
      ],
      "execution_count": null,
      "outputs": [
        {
          "output_type": "execute_result",
          "data": {
            "text/plain": [
              "my library      32531\n",
              "discover         9283\n",
              "radio            1661\n",
              "search           1659\n",
              "listen with       840\n",
              "explore           682\n",
              "settings           41\n",
              "notification       16\n",
              "Name: source_system_tab, dtype: int64"
            ]
          },
          "metadata": {},
          "execution_count": 370
        }
      ]
    },
    {
      "cell_type": "code",
      "metadata": {
        "id": "z80bvIBtiJgS"
      },
      "source": [
        "#replace with my library \n",
        "train['source_system_tab'].fillna('my library',inplace=True)"
      ],
      "execution_count": null,
      "outputs": []
    },
    {
      "cell_type": "code",
      "metadata": {
        "colab": {
          "base_uri": "https://localhost:8080/"
        },
        "id": "Funh9OciiNj3",
        "outputId": "c337eb00-da8e-4672-fef2-1c4acbb5feac"
      },
      "source": [
        "train['source_type'].value_counts()"
      ],
      "execution_count": null,
      "outputs": [
        {
          "output_type": "execute_result",
          "data": {
            "text/plain": [
              "local-library             20397\n",
              "local-playlist            11318\n",
              "online-playlist            8218\n",
              "radio                      1651\n",
              "top-hits-for-artist        1400\n",
              "album                      1330\n",
              "song-based-playlist        1152\n",
              "listen-with                 769\n",
              "song                        460\n",
              "artist                       49\n",
              "topic-article-playlist       12\n",
              "Name: source_type, dtype: int64"
            ]
          },
          "metadata": {},
          "execution_count": 372
        }
      ]
    },
    {
      "cell_type": "code",
      "metadata": {
        "id": "gDwpz4JXiRnO"
      },
      "source": [
        "#replace with local-library \n",
        "train['source_type'].fillna('local-library',inplace=True)"
      ],
      "execution_count": null,
      "outputs": []
    },
    {
      "cell_type": "code",
      "metadata": {
        "colab": {
          "base_uri": "https://localhost:8080/"
        },
        "id": "oexTCO2viVuq",
        "outputId": "2140295c-2286-495c-dfa6-ee074aba24d4"
      },
      "source": [
        "train['source_screen_name'].value_counts()"
      ],
      "execution_count": null,
      "outputs": [
        {
          "output_type": "execute_result",
          "data": {
            "text/plain": [
              "Local playlist more     30767\n",
              "Online playlist more     5080\n",
              "Radio                    1626\n",
              "Discover Feature         1291\n",
              "Discover Chart           1160\n",
              "Album more               1035\n",
              "Artist more               823\n",
              "My library                817\n",
              "Others profile more       766\n",
              "Search                    673\n",
              "Discover Genre            436\n",
              "Explore                   407\n",
              "Unknown                   162\n",
              "Search Trends              34\n",
              "My library_Search          34\n",
              "Search Home                33\n",
              "Discover New               32\n",
              "Name: source_screen_name, dtype: int64"
            ]
          },
          "metadata": {},
          "execution_count": 374
        }
      ]
    },
    {
      "cell_type": "code",
      "metadata": {
        "colab": {
          "base_uri": "https://localhost:8080/"
        },
        "id": "6mnwm-HGiYxK",
        "outputId": "f49b887b-7926-4a80-d8dd-d0e00e925e46"
      },
      "source": [
        "print('Training data')\n",
        "miss_val(train)"
      ],
      "execution_count": null,
      "outputs": [
        {
          "output_type": "stream",
          "name": "stdout",
          "text": [
            "Training data\n",
            "msno has 0.0 % missing values\n",
            "song_id has 0.002135520105921797 % missing values\n",
            "source_system_tab has 0.0 % missing values\n",
            "source_screen_name has 3.525743694876887 % missing values\n",
            "source_type has 0.0 % missing values\n",
            "target has 0.002135520105921797 % missing values\n"
          ]
        }
      ]
    },
    {
      "cell_type": "code",
      "metadata": {
        "colab": {
          "base_uri": "https://localhost:8080/"
        },
        "id": "fEd_ozLwiewp",
        "outputId": "92aa3d17-14f5-4e62-be1a-e46c823839c3"
      },
      "source": [
        "members.drop(['gender'], axis =1, inplace=True)\n",
        "print('members  data')\n",
        "miss_val(members)"
      ],
      "execution_count": null,
      "outputs": [
        {
          "output_type": "stream",
          "name": "stdout",
          "text": [
            "members  data\n",
            "msno has 0.0 % missing values\n",
            "city has 0.0 % missing values\n",
            "bd has 0.0 % missing values\n",
            "registered_via has 0.0 % missing values\n",
            "registration_init_time has 0.0 % missing values\n",
            "expiration_date has 0.0 % missing values\n"
          ]
        }
      ]
    },
    {
      "cell_type": "code",
      "metadata": {
        "id": "SdQg8fg1i8Jj"
      },
      "source": [
        "songs.drop(['composer'], axis =1, inplace=True)\n",
        "songs.drop(['lyricist'], axis =1, inplace=True)"
      ],
      "execution_count": null,
      "outputs": []
    },
    {
      "cell_type": "code",
      "metadata": {
        "colab": {
          "base_uri": "https://localhost:8080/"
        },
        "id": "gzf_JZjljFwY",
        "outputId": "c815ab7b-d699-470c-96e9-4daf97202692"
      },
      "source": [
        "songs['genre_ids'].value_counts()"
      ],
      "execution_count": null,
      "outputs": [
        {
          "output_type": "execute_result",
          "data": {
            "text/plain": [
              "465             16697\n",
              "1609             2481\n",
              "2022             2253\n",
              "958              1760\n",
              "921              1687\n",
              "                ...  \n",
              "289|1955            1\n",
              "275|1572|359        1\n",
              "242|786             1\n",
              "2245|242            1\n",
              "1007                1\n",
              "Name: genre_ids, Length: 359, dtype: int64"
            ]
          },
          "metadata": {},
          "execution_count": 378
        }
      ]
    },
    {
      "cell_type": "code",
      "metadata": {
        "id": "mFiZjeSEjJ5S"
      },
      "source": [
        "songs['genre_ids'].fillna('465',inplace=True)"
      ],
      "execution_count": null,
      "outputs": []
    },
    {
      "cell_type": "code",
      "metadata": {
        "colab": {
          "base_uri": "https://localhost:8080/"
        },
        "id": "re_6pl9CjUmZ",
        "outputId": "8413d97f-e351-4f63-aefe-358c37a3c455"
      },
      "source": [
        "songs['language'].value_counts()"
      ],
      "execution_count": null,
      "outputs": [
        {
          "output_type": "execute_result",
          "data": {
            "text/plain": [
              " 52.0    17625\n",
              " 3.0      8118\n",
              "-1.0      8116\n",
              " 17.0     3292\n",
              " 31.0     2243\n",
              " 24.0     1346\n",
              " 10.0     1241\n",
              " 59.0      142\n",
              " 45.0      128\n",
              " 38.0       18\n",
              "Name: language, dtype: int64"
            ]
          },
          "metadata": {},
          "execution_count": 380
        }
      ]
    },
    {
      "cell_type": "code",
      "metadata": {
        "id": "ELPKWFJTjbQH"
      },
      "source": [
        "#replace with 465 \n",
        "songs['language'].fillna(52.0,inplace=True)"
      ],
      "execution_count": null,
      "outputs": []
    },
    {
      "cell_type": "code",
      "metadata": {
        "colab": {
          "base_uri": "https://localhost:8080/"
        },
        "id": "hXVSfLB5jeX_",
        "outputId": "44a5bfe1-6b19-43a6-be93-c136bc23864c"
      },
      "source": [
        "print('songs.info data')\n",
        "miss_val(songs)"
      ],
      "execution_count": null,
      "outputs": [
        {
          "output_type": "stream",
          "name": "stdout",
          "text": [
            "songs.info data\n",
            "song_id has 0.0 % missing values\n",
            "song_length has 0.0 % missing values\n",
            "genre_ids has 0.0 % missing values\n",
            "artist_name has 0.0023657440264963333 % missing values\n",
            "language has 0.0 % missing values\n"
          ]
        }
      ]
    },
    {
      "cell_type": "code",
      "metadata": {
        "colab": {
          "base_uri": "https://localhost:8080/"
        },
        "id": "3Wozb7W6jhuo",
        "outputId": "e785914f-29c2-43ee-e991-0389653d7160"
      },
      "source": [
        "ext_song['name'].value_counts()"
      ],
      "execution_count": null,
      "outputs": [
        {
          "output_type": "execute_result",
          "data": {
            "text/plain": [
              "Silent Night              28\n",
              "White Christmas           22\n",
              "Intro                     21\n",
              "Beautiful                 19\n",
              "Jingle Bells              17\n",
              "                          ..\n",
              "WAIT AND I WILL WAIT       1\n",
              "WAKE UP!                   1\n",
              "WALK THROUGH THE NIGHT     1\n",
              "WANKO                      1\n",
              " Angel Of Mine - La        1\n",
              "Name: name, Length: 35997, dtype: int64"
            ]
          },
          "metadata": {},
          "execution_count": 383
        }
      ]
    },
    {
      "cell_type": "code",
      "metadata": {
        "id": "DLB2qDAdjwLi"
      },
      "source": [
        "#replace with Into \n",
        "ext_song['name'].fillna('Intro',inplace=True)"
      ],
      "execution_count": null,
      "outputs": []
    },
    {
      "cell_type": "code",
      "metadata": {
        "colab": {
          "base_uri": "https://localhost:8080/"
        },
        "id": "JaQzSV-Pj0DP",
        "outputId": "b74c04cf-2a42-4f4c-b02d-a45e33f5bf05"
      },
      "source": [
        "ext_song['isrc'].value_counts()"
      ],
      "execution_count": null,
      "outputs": [
        {
          "output_type": "execute_result",
          "data": {
            "text/plain": [
              "HKD250130804    4\n",
              "GBPS81500101    4\n",
              "USJAY0700190    3\n",
              "GBPS81500037    3\n",
              "GBPS81516862    3\n",
              "               ..\n",
              "TWE531520406    1\n",
              "TWE531520610    1\n",
              "TWE531520706    1\n",
              "TWE531520809    1\n",
              "ADA010815612    1\n",
              "Name: isrc, Length: 34664, dtype: int64"
            ]
          },
          "metadata": {},
          "execution_count": 385
        }
      ]
    },
    {
      "cell_type": "code",
      "metadata": {
        "id": "0S9oHI94j3M-"
      },
      "source": [
        "#replace with Into \n",
        "ext_song['isrc'].fillna('GBPS81518952',inplace=True)"
      ],
      "execution_count": null,
      "outputs": []
    },
    {
      "cell_type": "code",
      "metadata": {
        "colab": {
          "base_uri": "https://localhost:8080/"
        },
        "id": "ulKk9xujkJ34",
        "outputId": "db79d54a-8a58-43e9-9fe6-61fc6178afcb"
      },
      "source": [
        "print('ext_song.info data')\n",
        "miss_val(ext_song)"
      ],
      "execution_count": null,
      "outputs": [
        {
          "output_type": "stream",
          "name": "stdout",
          "text": [
            "ext_song.info data\n",
            "song_id has 0.0 % missing values\n",
            "name has 0.0 % missing values\n",
            "isrc has 0.0 % missing values\n"
          ]
        }
      ]
    },
    {
      "cell_type": "code",
      "metadata": {
        "id": "K_ZtU3EWkNk-"
      },
      "source": [
        "#merging data\n",
        "songs_all= pd.merge(songs,ext_song,\n",
        "                     on ='song_id' ,how='left')\n",
        "train_memebrs= pd.merge(train,members,\n",
        "                    on ='msno' ,how='left')\n",
        "train_data= pd.merge(train_memebrs,songs_all,\n",
        "                     on ='song_id' ,how='left')"
      ],
      "execution_count": null,
      "outputs": []
    },
    {
      "cell_type": "code",
      "metadata": {
        "colab": {
          "base_uri": "https://localhost:8080/"
        },
        "id": "-gjmhKEukVaq",
        "outputId": "4e57b18d-478a-4775-80ac-c3fcdfe38f5e"
      },
      "source": [
        "train_data.info()"
      ],
      "execution_count": null,
      "outputs": [
        {
          "output_type": "stream",
          "name": "stdout",
          "text": [
            "<class 'pandas.core.frame.DataFrame'>\n",
            "Int64Index: 46827 entries, 0 to 46826\n",
            "Data columns (total 17 columns):\n",
            " #   Column                  Non-Null Count  Dtype         \n",
            "---  ------                  --------------  -----         \n",
            " 0   msno                    46827 non-null  object        \n",
            " 1   song_id                 46826 non-null  object        \n",
            " 2   source_system_tab       46827 non-null  category      \n",
            " 3   source_screen_name      45176 non-null  category      \n",
            " 4   source_type             46827 non-null  category      \n",
            " 5   target                  46826 non-null  float16       \n",
            " 6   city                    46826 non-null  float64       \n",
            " 7   bd                      46826 non-null  float64       \n",
            " 8   registered_via          46826 non-null  float64       \n",
            " 9   registration_init_time  46826 non-null  datetime64[ns]\n",
            " 10  expiration_date         46826 non-null  datetime64[ns]\n",
            " 11  song_length             7221 non-null   float64       \n",
            " 12  genre_ids               7221 non-null   category      \n",
            " 13  artist_name             7221 non-null   category      \n",
            " 14  language                7221 non-null   float16       \n",
            " 15  name                    1145 non-null   category      \n",
            " 16  isrc                    1145 non-null   category      \n",
            "dtypes: category(7), datetime64[ns](2), float16(2), float64(4), object(2)\n",
            "memory usage: 7.8+ MB\n"
          ]
        }
      ]
    },
    {
      "cell_type": "code",
      "metadata": {
        "id": "qQ0nKH0JkZEs"
      },
      "source": [
        "train_data.drop(['msno'], axis =1, inplace=True)\n",
        "train_data.drop(['song_id'], axis =1, inplace=True)\n",
        "train_data.drop(['isrc'], axis =1, inplace=True)\n",
        "train_data.drop(['artist_name'], axis =1, inplace=True)\n",
        "train_data.drop(['genre_ids'], axis =1, inplace=True)\n",
        "train_data.drop(['name'], axis =1, inplace=True)"
      ],
      "execution_count": null,
      "outputs": []
    },
    {
      "cell_type": "code",
      "metadata": {
        "id": "OHUvhrJ8nFjm"
      },
      "source": [
        "train_data['membership_days'] = train_data['expiration_date'].subtract(train_data['registration_init_time']).dt.days.astype(int,errors='ignore')\n",
        "train_data['registration_year'] = train_data['registration_init_time'].dt.year\n",
        "train_data['expiration_year'] = train_data['expiration_date'].dt.year\n",
        "train_data.drop(columns = ['registration_init_time' , 'expiration_date'] , inplace = True)\n"
      ],
      "execution_count": null,
      "outputs": []
    },
    {
      "cell_type": "code",
      "metadata": {
        "colab": {
          "base_uri": "https://localhost:8080/",
          "height": 261
        },
        "id": "rWqiyHmFqZ9C",
        "outputId": "bed88856-6ebd-4930-a84b-b8ae10458c2e"
      },
      "source": [
        "train_data.head()"
      ],
      "execution_count": null,
      "outputs": [
        {
          "output_type": "execute_result",
          "data": {
            "text/html": [
              "<div>\n",
              "<style scoped>\n",
              "    .dataframe tbody tr th:only-of-type {\n",
              "        vertical-align: middle;\n",
              "    }\n",
              "\n",
              "    .dataframe tbody tr th {\n",
              "        vertical-align: top;\n",
              "    }\n",
              "\n",
              "    .dataframe thead th {\n",
              "        text-align: right;\n",
              "    }\n",
              "</style>\n",
              "<table border=\"1\" class=\"dataframe\">\n",
              "  <thead>\n",
              "    <tr style=\"text-align: right;\">\n",
              "      <th></th>\n",
              "      <th>source_system_tab</th>\n",
              "      <th>source_screen_name</th>\n",
              "      <th>source_type</th>\n",
              "      <th>target</th>\n",
              "      <th>city</th>\n",
              "      <th>bd</th>\n",
              "      <th>registered_via</th>\n",
              "      <th>song_length</th>\n",
              "      <th>language</th>\n",
              "      <th>membership_days</th>\n",
              "      <th>registration_year</th>\n",
              "      <th>expiration_year</th>\n",
              "    </tr>\n",
              "  </thead>\n",
              "  <tbody>\n",
              "    <tr>\n",
              "      <th>0</th>\n",
              "      <td>explore</td>\n",
              "      <td>Explore</td>\n",
              "      <td>online-playlist</td>\n",
              "      <td>1.0</td>\n",
              "      <td>1.0</td>\n",
              "      <td>0.0</td>\n",
              "      <td>7.0</td>\n",
              "      <td>NaN</td>\n",
              "      <td>NaN</td>\n",
              "      <td>2103.0</td>\n",
              "      <td>2012.0</td>\n",
              "      <td>2017.0</td>\n",
              "    </tr>\n",
              "    <tr>\n",
              "      <th>1</th>\n",
              "      <td>my library</td>\n",
              "      <td>Local playlist more</td>\n",
              "      <td>local-playlist</td>\n",
              "      <td>1.0</td>\n",
              "      <td>13.0</td>\n",
              "      <td>24.0</td>\n",
              "      <td>9.0</td>\n",
              "      <td>NaN</td>\n",
              "      <td>NaN</td>\n",
              "      <td>2301.0</td>\n",
              "      <td>2011.0</td>\n",
              "      <td>2017.0</td>\n",
              "    </tr>\n",
              "    <tr>\n",
              "      <th>2</th>\n",
              "      <td>my library</td>\n",
              "      <td>Local playlist more</td>\n",
              "      <td>local-playlist</td>\n",
              "      <td>1.0</td>\n",
              "      <td>13.0</td>\n",
              "      <td>24.0</td>\n",
              "      <td>9.0</td>\n",
              "      <td>NaN</td>\n",
              "      <td>NaN</td>\n",
              "      <td>2301.0</td>\n",
              "      <td>2011.0</td>\n",
              "      <td>2017.0</td>\n",
              "    </tr>\n",
              "    <tr>\n",
              "      <th>3</th>\n",
              "      <td>my library</td>\n",
              "      <td>Local playlist more</td>\n",
              "      <td>local-playlist</td>\n",
              "      <td>1.0</td>\n",
              "      <td>13.0</td>\n",
              "      <td>24.0</td>\n",
              "      <td>9.0</td>\n",
              "      <td>NaN</td>\n",
              "      <td>NaN</td>\n",
              "      <td>2301.0</td>\n",
              "      <td>2011.0</td>\n",
              "      <td>2017.0</td>\n",
              "    </tr>\n",
              "    <tr>\n",
              "      <th>4</th>\n",
              "      <td>explore</td>\n",
              "      <td>Explore</td>\n",
              "      <td>online-playlist</td>\n",
              "      <td>1.0</td>\n",
              "      <td>1.0</td>\n",
              "      <td>0.0</td>\n",
              "      <td>7.0</td>\n",
              "      <td>NaN</td>\n",
              "      <td>NaN</td>\n",
              "      <td>2103.0</td>\n",
              "      <td>2012.0</td>\n",
              "      <td>2017.0</td>\n",
              "    </tr>\n",
              "  </tbody>\n",
              "</table>\n",
              "</div>"
            ],
            "text/plain": [
              "  source_system_tab   source_screen_name  ... registration_year  expiration_year\n",
              "0           explore              Explore  ...            2012.0           2017.0\n",
              "1        my library  Local playlist more  ...            2011.0           2017.0\n",
              "2        my library  Local playlist more  ...            2011.0           2017.0\n",
              "3        my library  Local playlist more  ...            2011.0           2017.0\n",
              "4           explore              Explore  ...            2012.0           2017.0\n",
              "\n",
              "[5 rows x 12 columns]"
            ]
          },
          "metadata": {},
          "execution_count": 392
        }
      ]
    },
    {
      "cell_type": "code",
      "metadata": {
        "id": "HZzjsjDjqjou"
      },
      "source": [
        "label_encoding = ['source_system_tab', 'source_screen_name',\n",
        "       'source_type']"
      ],
      "execution_count": null,
      "outputs": []
    },
    {
      "cell_type": "code",
      "metadata": {
        "id": "3dm-9lk0qzaY"
      },
      "source": [
        "from sklearn.preprocessing import LabelEncoder"
      ],
      "execution_count": null,
      "outputs": []
    },
    {
      "cell_type": "code",
      "metadata": {
        "id": "D7A0y_hxq7sA"
      },
      "source": [
        "for f in label_encoding:\n",
        "    lb = LabelEncoder()\n",
        "    lb.fit(list(train_data[f].values) )\n",
        "    train_data[f] = lb.transform(list(train_data[f].values))"
      ],
      "execution_count": null,
      "outputs": []
    },
    {
      "cell_type": "code",
      "metadata": {
        "id": "t05rolS4rD2d"
      },
      "source": [
        "for col in train_data.columns:\n",
        "    if train_data[col].dtype == object:\n",
        "        train_data[col] = train_data[col].astype('category')"
      ],
      "execution_count": null,
      "outputs": []
    },
    {
      "cell_type": "code",
      "metadata": {
        "colab": {
          "base_uri": "https://localhost:8080/"
        },
        "id": "j_ytswAbrSsQ",
        "outputId": "82d695c1-b1e7-4c1a-9000-4340ad12bfd9"
      },
      "source": [
        "print('train data')\n",
        "miss_val(train_data)"
      ],
      "execution_count": null,
      "outputs": [
        {
          "output_type": "stream",
          "name": "stdout",
          "text": [
            "train data\n",
            "source_system_tab has 0.0 % missing values\n",
            "source_screen_name has 0.0 % missing values\n",
            "source_type has 0.0 % missing values\n",
            "target has 0.002135520105921797 % missing values\n",
            "city has 0.002135520105921797 % missing values\n",
            "bd has 0.002135520105921797 % missing values\n",
            "registered_via has 0.002135520105921797 % missing values\n",
            "song_length has 84.5794093151387 % missing values\n",
            "language has 84.5794093151387 % missing values\n",
            "membership_days has 0.002135520105921797 % missing values\n",
            "registration_year has 0.002135520105921797 % missing values\n",
            "expiration_year has 0.002135520105921797 % missing values\n"
          ]
        }
      ]
    },
    {
      "cell_type": "code",
      "metadata": {
        "colab": {
          "base_uri": "https://localhost:8080/"
        },
        "id": "Uuhsk8qDrV7w",
        "outputId": "a28e9a47-a6e2-4da6-a4c5-2dfb9da28e10"
      },
      "source": [
        "train_data['song_length'].value_counts()"
      ],
      "execution_count": null,
      "outputs": [
        {
          "output_type": "execute_result",
          "data": {
            "text/plain": [
              "219324.0    201\n",
              "198528.0    104\n",
              "231549.0     85\n",
              "222624.0     76\n",
              "298945.0     72\n",
              "           ... \n",
              "117551.0      1\n",
              "218778.0      1\n",
              "186017.0      1\n",
              "251568.0      1\n",
              "273402.0      1\n",
              "Name: song_length, Length: 2091, dtype: int64"
            ]
          },
          "metadata": {},
          "execution_count": 398
        }
      ]
    },
    {
      "cell_type": "code",
      "metadata": {
        "id": "Hs3e8NEQried"
      },
      "source": [
        "#replace with Into \n",
        "train_data['song_length'].fillna(235415.0 ,inplace=True)"
      ],
      "execution_count": null,
      "outputs": []
    },
    {
      "cell_type": "code",
      "metadata": {
        "colab": {
          "base_uri": "https://localhost:8080/"
        },
        "id": "U8Y7I_y8rlK7",
        "outputId": "d88c93ac-5f00-479e-a8e8-de2ec9866c08"
      },
      "source": [
        "train_data['language'].value_counts()"
      ],
      "execution_count": null,
      "outputs": [
        {
          "output_type": "execute_result",
          "data": {
            "text/plain": [
              " 3.0     4290\n",
              " 52.0    1591\n",
              " 31.0     693\n",
              "-1.0      226\n",
              " 17.0     168\n",
              " 10.0     154\n",
              " 24.0      90\n",
              " 59.0       4\n",
              " 45.0       4\n",
              " 38.0       1\n",
              "Name: language, dtype: int64"
            ]
          },
          "metadata": {},
          "execution_count": 400
        }
      ]
    },
    {
      "cell_type": "code",
      "metadata": {
        "colab": {
          "base_uri": "https://localhost:8080/"
        },
        "id": "mMtew4w_rpPd",
        "outputId": "f9ccfeee-878f-4973-f6ab-5ff2979cebea"
      },
      "source": [
        "train_data['language'].fillna(3.0 ,inplace=True)\n",
        "print('train data')\n",
        "miss_val(train_data)"
      ],
      "execution_count": null,
      "outputs": [
        {
          "output_type": "stream",
          "name": "stdout",
          "text": [
            "train data\n",
            "source_system_tab has 0.0 % missing values\n",
            "source_screen_name has 0.0 % missing values\n",
            "source_type has 0.0 % missing values\n",
            "target has 0.002135520105921797 % missing values\n",
            "city has 0.002135520105921797 % missing values\n",
            "bd has 0.002135520105921797 % missing values\n",
            "registered_via has 0.002135520105921797 % missing values\n",
            "song_length has 0.0 % missing values\n",
            "language has 0.0 % missing values\n",
            "membership_days has 0.002135520105921797 % missing values\n",
            "registration_year has 0.002135520105921797 % missing values\n",
            "expiration_year has 0.002135520105921797 % missing values\n"
          ]
        }
      ]
    },
    {
      "cell_type": "code",
      "metadata": {
        "id": "tCGoE7nprtb8"
      },
      "source": [
        "train_data.replace([np.inf,-np.inf],np.nan, inplace =True)"
      ],
      "execution_count": null,
      "outputs": []
    },
    {
      "cell_type": "code",
      "metadata": {
        "colab": {
          "base_uri": "https://localhost:8080/"
        },
        "id": "lRSRGJnrrxCB",
        "outputId": "2a71a4ae-c21d-4311-9ac3-e37ddece54f1"
      },
      "source": [
        "print('train data')\n",
        "miss_val(train_data)"
      ],
      "execution_count": null,
      "outputs": [
        {
          "output_type": "stream",
          "name": "stdout",
          "text": [
            "train data\n",
            "source_system_tab has 0.0 % missing values\n",
            "source_screen_name has 0.0 % missing values\n",
            "source_type has 0.0 % missing values\n",
            "target has 0.002135520105921797 % missing values\n",
            "city has 0.002135520105921797 % missing values\n",
            "bd has 0.002135520105921797 % missing values\n",
            "registered_via has 0.002135520105921797 % missing values\n",
            "song_length has 0.0 % missing values\n",
            "language has 0.0 % missing values\n",
            "membership_days has 0.002135520105921797 % missing values\n",
            "registration_year has 0.002135520105921797 % missing values\n",
            "expiration_year has 0.002135520105921797 % missing values\n"
          ]
        }
      ]
    },
    {
      "cell_type": "code",
      "metadata": {
        "id": "5_vG2VwBr1S_"
      },
      "source": [
        "from sklearn.preprocessing import StandardScaler\n",
        "#from sklearn.linear_model import LogisticRegression\n",
        "from sklearn.svm import SVC\n",
        "from sklearn.model_selection import train_test_split\n",
        "from sklearn.metrics import accuracy_score\n",
        "from sklearn.metrics import confusion_matrix\n",
        "from sklearn.metrics import accuracy_score"
      ],
      "execution_count": null,
      "outputs": []
    },
    {
      "cell_type": "code",
      "metadata": {
        "colab": {
          "base_uri": "https://localhost:8080/"
        },
        "id": "PqWVmNoMr5Eg",
        "outputId": "065472d9-c474-4bf6-de49-3df42e031d89"
      },
      "source": [
        "train_data.shape"
      ],
      "execution_count": null,
      "outputs": [
        {
          "output_type": "execute_result",
          "data": {
            "text/plain": [
              "(46827, 12)"
            ]
          },
          "metadata": {},
          "execution_count": 405
        }
      ]
    },
    {
      "cell_type": "code",
      "metadata": {
        "id": "0zuWdh6tr7zd"
      },
      "source": [
        "train_data = train_data.sample(frac = 1)"
      ],
      "execution_count": null,
      "outputs": []
    },
    {
      "cell_type": "code",
      "metadata": {
        "id": "H33e-jYir_Gf"
      },
      "source": [
        "train_data1=train_data[0:30000]"
      ],
      "execution_count": null,
      "outputs": []
    },
    {
      "cell_type": "code",
      "metadata": {
        "colab": {
          "base_uri": "https://localhost:8080/"
        },
        "id": "5_AUxgnisDVh",
        "outputId": "f2dd582d-9787-4610-a15e-ea46558624aa"
      },
      "source": [
        "train_data1.shape"
      ],
      "execution_count": null,
      "outputs": [
        {
          "output_type": "execute_result",
          "data": {
            "text/plain": [
              "(30000, 12)"
            ]
          },
          "metadata": {},
          "execution_count": 408
        }
      ]
    },
    {
      "cell_type": "code",
      "metadata": {
        "colab": {
          "base_uri": "https://localhost:8080/",
          "height": 226
        },
        "id": "9tRKw41isGyA",
        "outputId": "7e4d5d73-cd96-458d-e25b-c96d8b71eddc"
      },
      "source": [
        "train_data1.head()"
      ],
      "execution_count": null,
      "outputs": [
        {
          "output_type": "execute_result",
          "data": {
            "text/html": [
              "<div>\n",
              "<style scoped>\n",
              "    .dataframe tbody tr th:only-of-type {\n",
              "        vertical-align: middle;\n",
              "    }\n",
              "\n",
              "    .dataframe tbody tr th {\n",
              "        vertical-align: top;\n",
              "    }\n",
              "\n",
              "    .dataframe thead th {\n",
              "        text-align: right;\n",
              "    }\n",
              "</style>\n",
              "<table border=\"1\" class=\"dataframe\">\n",
              "  <thead>\n",
              "    <tr style=\"text-align: right;\">\n",
              "      <th></th>\n",
              "      <th>source_system_tab</th>\n",
              "      <th>source_screen_name</th>\n",
              "      <th>source_type</th>\n",
              "      <th>target</th>\n",
              "      <th>city</th>\n",
              "      <th>bd</th>\n",
              "      <th>registered_via</th>\n",
              "      <th>song_length</th>\n",
              "      <th>language</th>\n",
              "      <th>membership_days</th>\n",
              "      <th>registration_year</th>\n",
              "      <th>expiration_year</th>\n",
              "    </tr>\n",
              "  </thead>\n",
              "  <tbody>\n",
              "    <tr>\n",
              "      <th>25299</th>\n",
              "      <td>3</td>\n",
              "      <td>17</td>\n",
              "      <td>3</td>\n",
              "      <td>0.0</td>\n",
              "      <td>1.0</td>\n",
              "      <td>0.0</td>\n",
              "      <td>7.0</td>\n",
              "      <td>235415.0</td>\n",
              "      <td>3.0</td>\n",
              "      <td>567.0</td>\n",
              "      <td>2016.0</td>\n",
              "      <td>2017.0</td>\n",
              "    </tr>\n",
              "    <tr>\n",
              "      <th>19549</th>\n",
              "      <td>0</td>\n",
              "      <td>10</td>\n",
              "      <td>5</td>\n",
              "      <td>1.0</td>\n",
              "      <td>3.0</td>\n",
              "      <td>38.0</td>\n",
              "      <td>9.0</td>\n",
              "      <td>235415.0</td>\n",
              "      <td>3.0</td>\n",
              "      <td>3371.0</td>\n",
              "      <td>2008.0</td>\n",
              "      <td>2017.0</td>\n",
              "    </tr>\n",
              "    <tr>\n",
              "      <th>36574</th>\n",
              "      <td>0</td>\n",
              "      <td>2</td>\n",
              "      <td>5</td>\n",
              "      <td>1.0</td>\n",
              "      <td>13.0</td>\n",
              "      <td>34.0</td>\n",
              "      <td>9.0</td>\n",
              "      <td>269165.0</td>\n",
              "      <td>3.0</td>\n",
              "      <td>2588.0</td>\n",
              "      <td>2010.0</td>\n",
              "      <td>2017.0</td>\n",
              "    </tr>\n",
              "    <tr>\n",
              "      <th>46171</th>\n",
              "      <td>3</td>\n",
              "      <td>7</td>\n",
              "      <td>3</td>\n",
              "      <td>1.0</td>\n",
              "      <td>22.0</td>\n",
              "      <td>21.0</td>\n",
              "      <td>7.0</td>\n",
              "      <td>235415.0</td>\n",
              "      <td>3.0</td>\n",
              "      <td>759.0</td>\n",
              "      <td>2015.0</td>\n",
              "      <td>2017.0</td>\n",
              "    </tr>\n",
              "    <tr>\n",
              "      <th>17724</th>\n",
              "      <td>3</td>\n",
              "      <td>7</td>\n",
              "      <td>3</td>\n",
              "      <td>1.0</td>\n",
              "      <td>13.0</td>\n",
              "      <td>36.0</td>\n",
              "      <td>9.0</td>\n",
              "      <td>235415.0</td>\n",
              "      <td>3.0</td>\n",
              "      <td>4219.0</td>\n",
              "      <td>2006.0</td>\n",
              "      <td>2017.0</td>\n",
              "    </tr>\n",
              "  </tbody>\n",
              "</table>\n",
              "</div>"
            ],
            "text/plain": [
              "       source_system_tab  ...  expiration_year\n",
              "25299                  3  ...           2017.0\n",
              "19549                  0  ...           2017.0\n",
              "36574                  0  ...           2017.0\n",
              "46171                  3  ...           2017.0\n",
              "17724                  3  ...           2017.0\n",
              "\n",
              "[5 rows x 12 columns]"
            ]
          },
          "metadata": {},
          "execution_count": 409
        }
      ]
    },
    {
      "cell_type": "code",
      "metadata": {
        "id": "Y3Rjc7_JsJ9R"
      },
      "source": [
        "x = train_data1.drop(['target'], axis =1).astype(np.float)\n",
        "y = train_data1['target'].astype(np.float)"
      ],
      "execution_count": null,
      "outputs": []
    },
    {
      "cell_type": "code",
      "metadata": {
        "id": "5L0CwoXFsNhZ"
      },
      "source": [
        "x_train, x_test, y_train, y_test = train_test_split(x, y, test_size = 0.3, random_state = 0)"
      ],
      "execution_count": null,
      "outputs": []
    },
    {
      "cell_type": "code",
      "metadata": {
        "colab": {
          "base_uri": "https://localhost:8080/"
        },
        "id": "AIqYwGm2sTGI",
        "outputId": "e536eeba-b391-44e0-e274-cdea7d6959cf"
      },
      "source": [
        "x_train.info()"
      ],
      "execution_count": null,
      "outputs": [
        {
          "output_type": "stream",
          "name": "stdout",
          "text": [
            "<class 'pandas.core.frame.DataFrame'>\n",
            "Int64Index: 21000 entries, 6305 to 22418\n",
            "Data columns (total 11 columns):\n",
            " #   Column              Non-Null Count  Dtype  \n",
            "---  ------              --------------  -----  \n",
            " 0   source_system_tab   21000 non-null  float64\n",
            " 1   source_screen_name  21000 non-null  float64\n",
            " 2   source_type         21000 non-null  float64\n",
            " 3   city                21000 non-null  float64\n",
            " 4   bd                  21000 non-null  float64\n",
            " 5   registered_via      21000 non-null  float64\n",
            " 6   song_length         21000 non-null  float64\n",
            " 7   language            21000 non-null  float64\n",
            " 8   membership_days     21000 non-null  float64\n",
            " 9   registration_year   21000 non-null  float64\n",
            " 10  expiration_year     21000 non-null  float64\n",
            "dtypes: float64(11)\n",
            "memory usage: 1.9 MB\n"
          ]
        }
      ]
    },
    {
      "cell_type": "code",
      "metadata": {
        "colab": {
          "base_uri": "https://localhost:8080/",
          "height": 320
        },
        "id": "oAw6nzptsVq7",
        "outputId": "232ae06d-a0bf-4799-e825-06d770ef8e87"
      },
      "source": [
        "x_train.describe()"
      ],
      "execution_count": null,
      "outputs": [
        {
          "output_type": "execute_result",
          "data": {
            "text/html": [
              "<div>\n",
              "<style scoped>\n",
              "    .dataframe tbody tr th:only-of-type {\n",
              "        vertical-align: middle;\n",
              "    }\n",
              "\n",
              "    .dataframe tbody tr th {\n",
              "        vertical-align: top;\n",
              "    }\n",
              "\n",
              "    .dataframe thead th {\n",
              "        text-align: right;\n",
              "    }\n",
              "</style>\n",
              "<table border=\"1\" class=\"dataframe\">\n",
              "  <thead>\n",
              "    <tr style=\"text-align: right;\">\n",
              "      <th></th>\n",
              "      <th>source_system_tab</th>\n",
              "      <th>source_screen_name</th>\n",
              "      <th>source_type</th>\n",
              "      <th>city</th>\n",
              "      <th>bd</th>\n",
              "      <th>registered_via</th>\n",
              "      <th>song_length</th>\n",
              "      <th>language</th>\n",
              "      <th>membership_days</th>\n",
              "      <th>registration_year</th>\n",
              "      <th>expiration_year</th>\n",
              "    </tr>\n",
              "  </thead>\n",
              "  <tbody>\n",
              "    <tr>\n",
              "      <th>count</th>\n",
              "      <td>21000.000000</td>\n",
              "      <td>21000.000000</td>\n",
              "      <td>21000.000000</td>\n",
              "      <td>21000.000000</td>\n",
              "      <td>21000.000000</td>\n",
              "      <td>21000.000000</td>\n",
              "      <td>21000.000000</td>\n",
              "      <td>21000.000000</td>\n",
              "      <td>21000.000000</td>\n",
              "      <td>21000.000000</td>\n",
              "      <td>21000.000000</td>\n",
              "    </tr>\n",
              "    <tr>\n",
              "      <th>mean</th>\n",
              "      <td>2.542143</td>\n",
              "      <td>7.537571</td>\n",
              "      <td>3.951619</td>\n",
              "      <td>7.735857</td>\n",
              "      <td>17.621238</td>\n",
              "      <td>6.823095</td>\n",
              "      <td>236615.861048</td>\n",
              "      <td>5.148905</td>\n",
              "      <td>1679.593286</td>\n",
              "      <td>2012.612952</td>\n",
              "      <td>2017.077952</td>\n",
              "    </tr>\n",
              "    <tr>\n",
              "      <th>std</th>\n",
              "      <td>1.466107</td>\n",
              "      <td>3.048869</td>\n",
              "      <td>1.604093</td>\n",
              "      <td>6.502593</td>\n",
              "      <td>15.681757</td>\n",
              "      <td>2.278878</td>\n",
              "      <td>18964.752166</td>\n",
              "      <td>9.473253</td>\n",
              "      <td>1092.956797</td>\n",
              "      <td>2.940916</td>\n",
              "      <td>0.343754</td>\n",
              "    </tr>\n",
              "    <tr>\n",
              "      <th>min</th>\n",
              "      <td>0.000000</td>\n",
              "      <td>0.000000</td>\n",
              "      <td>0.000000</td>\n",
              "      <td>1.000000</td>\n",
              "      <td>0.000000</td>\n",
              "      <td>3.000000</td>\n",
              "      <td>17902.000000</td>\n",
              "      <td>-1.000000</td>\n",
              "      <td>3.000000</td>\n",
              "      <td>2004.000000</td>\n",
              "      <td>2016.000000</td>\n",
              "    </tr>\n",
              "    <tr>\n",
              "      <th>25%</th>\n",
              "      <td>3.000000</td>\n",
              "      <td>7.000000</td>\n",
              "      <td>3.000000</td>\n",
              "      <td>1.000000</td>\n",
              "      <td>0.000000</td>\n",
              "      <td>4.000000</td>\n",
              "      <td>235415.000000</td>\n",
              "      <td>3.000000</td>\n",
              "      <td>761.000000</td>\n",
              "      <td>2011.000000</td>\n",
              "      <td>2017.000000</td>\n",
              "    </tr>\n",
              "    <tr>\n",
              "      <th>50%</th>\n",
              "      <td>3.000000</td>\n",
              "      <td>7.000000</td>\n",
              "      <td>4.000000</td>\n",
              "      <td>5.000000</td>\n",
              "      <td>22.000000</td>\n",
              "      <td>7.000000</td>\n",
              "      <td>235415.000000</td>\n",
              "      <td>3.000000</td>\n",
              "      <td>1496.000000</td>\n",
              "      <td>2013.000000</td>\n",
              "      <td>2017.000000</td>\n",
              "    </tr>\n",
              "    <tr>\n",
              "      <th>75%</th>\n",
              "      <td>3.000000</td>\n",
              "      <td>7.000000</td>\n",
              "      <td>5.000000</td>\n",
              "      <td>13.000000</td>\n",
              "      <td>29.000000</td>\n",
              "      <td>9.000000</td>\n",
              "      <td>235415.000000</td>\n",
              "      <td>3.000000</td>\n",
              "      <td>2290.000000</td>\n",
              "      <td>2015.000000</td>\n",
              "      <td>2017.000000</td>\n",
              "    </tr>\n",
              "    <tr>\n",
              "      <th>max</th>\n",
              "      <td>7.000000</td>\n",
              "      <td>17.000000</td>\n",
              "      <td>10.000000</td>\n",
              "      <td>22.000000</td>\n",
              "      <td>131.000000</td>\n",
              "      <td>13.000000</td>\n",
              "      <td>911333.000000</td>\n",
              "      <td>52.000000</td>\n",
              "      <td>5076.000000</td>\n",
              "      <td>2016.000000</td>\n",
              "      <td>2019.000000</td>\n",
              "    </tr>\n",
              "  </tbody>\n",
              "</table>\n",
              "</div>"
            ],
            "text/plain": [
              "       source_system_tab  ...  expiration_year\n",
              "count       21000.000000  ...     21000.000000\n",
              "mean            2.542143  ...      2017.077952\n",
              "std             1.466107  ...         0.343754\n",
              "min             0.000000  ...      2016.000000\n",
              "25%             3.000000  ...      2017.000000\n",
              "50%             3.000000  ...      2017.000000\n",
              "75%             3.000000  ...      2017.000000\n",
              "max             7.000000  ...      2019.000000\n",
              "\n",
              "[8 rows x 11 columns]"
            ]
          },
          "metadata": {},
          "execution_count": 413
        }
      ]
    },
    {
      "cell_type": "code",
      "metadata": {
        "id": "U0VLtgXhsbDQ"
      },
      "source": [
        "sc=StandardScaler()\n",
        "x_train=sc.fit_transform(x_train)\n",
        "x_test=sc.fit_transform(x_test)"
      ],
      "execution_count": null,
      "outputs": []
    },
    {
      "cell_type": "code",
      "metadata": {
        "colab": {
          "base_uri": "https://localhost:8080/"
        },
        "id": "h9GIgozasfjp",
        "outputId": "78194623-0773-446a-b4fa-907dabe31893"
      },
      "source": [
        "np.isnan(x_test.any())"
      ],
      "execution_count": null,
      "outputs": [
        {
          "output_type": "execute_result",
          "data": {
            "text/plain": [
              "False"
            ]
          },
          "metadata": {},
          "execution_count": 415
        }
      ]
    },
    {
      "cell_type": "code",
      "metadata": {
        "colab": {
          "base_uri": "https://localhost:8080/"
        },
        "id": "Q4drVYPzskAP",
        "outputId": "8049482a-059e-4def-927c-681741159cbc"
      },
      "source": [
        "clf = SVC(kernel='linear', C=1.0, random_state=0)\n",
        "\n",
        "clf.fit(x_train, y_train)"
      ],
      "execution_count": null,
      "outputs": [
        {
          "output_type": "execute_result",
          "data": {
            "text/plain": [
              "SVC(C=1.0, break_ties=False, cache_size=200, class_weight=None, coef0=0.0,\n",
              "    decision_function_shape='ovr', degree=3, gamma='scale', kernel='linear',\n",
              "    max_iter=-1, probability=False, random_state=0, shrinking=True, tol=0.001,\n",
              "    verbose=False)"
            ]
          },
          "metadata": {},
          "execution_count": 416
        }
      ]
    },
    {
      "cell_type": "code",
      "metadata": {
        "colab": {
          "base_uri": "https://localhost:8080/"
        },
        "id": "RHzcM9F32bWJ",
        "outputId": "045b2589-f8be-48c3-a8c6-af0618c5da7a"
      },
      "source": [
        "y_pp=clf.predict(x_test)\n",
        "print (\"Test - Accuracy :\", accuracy_score(y_test, y_pp))\n",
        "print (\"Test -  Confusion matrix :\\n\",confusion_matrix(y_test, y_pp))"
      ],
      "execution_count": null,
      "outputs": [
        {
          "output_type": "stream",
          "name": "stdout",
          "text": [
            "Test - Accuracy : 0.7548888888888889\n",
            "Test -  Confusion matrix :\n",
            " [[   0 2206]\n",
            " [   0 6794]]\n"
          ]
        }
      ]
    }
  ]
}