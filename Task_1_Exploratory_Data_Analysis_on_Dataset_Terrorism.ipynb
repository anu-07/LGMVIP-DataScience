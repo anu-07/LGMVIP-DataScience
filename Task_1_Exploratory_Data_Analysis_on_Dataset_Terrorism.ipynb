{
  "nbformat": 4,
  "nbformat_minor": 0,
  "metadata": {
    "colab": {
      "name": "Task#1-Exploratory Data Analysis on Dataset-Terrorism.ipynb",
      "provenance": [],
      "authorship_tag": "ABX9TyMtAwUnxrPxCFJ6g5/zdJ1u",
      "include_colab_link": true
    },
    "kernelspec": {
      "name": "python3",
      "display_name": "Python 3"
    },
    "language_info": {
      "name": "python"
    }
  },
  "cells": [
    {
      "cell_type": "markdown",
      "metadata": {
        "id": "view-in-github",
        "colab_type": "text"
      },
      "source": [
        "<a href=\"https://colab.research.google.com/github/anu-07/LGMVIP-DataScience/blob/main/Task_1_Exploratory_Data_Analysis_on_Dataset_Terrorism.ipynb\" target=\"_parent\"><img src=\"https://colab.research.google.com/assets/colab-badge.svg\" alt=\"Open In Colab\"/></a>"
      ]
    },
    {
      "cell_type": "markdown",
      "metadata": {
        "id": "YwrWQh2G9gaZ"
      },
      "source": [
        "# **LETS GROW MORE**\n",
        "\n",
        "Level 2:**Intermediate**\n",
        "\n",
        "Author-**Anushka Mitra**\n",
        "\n",
        "Task 1-**Exploratory Data Analysis on Dataset-Terrorism**\n",
        "\n",
        "Dataset-https://bit.ly/2TK5Xn5\n",
        "\n"
      ]
    },
    {
      "cell_type": "code",
      "metadata": {
        "id": "rchf2QWW2pPe"
      },
      "source": [
        "import pandas as pd\n",
        "import numpy as np\n",
        "import matplotlib.pyplot as plt"
      ],
      "execution_count": null,
      "outputs": []
    },
    {
      "cell_type": "code",
      "metadata": {
        "id": "HHT1S8Z191Xx"
      },
      "source": [
        "import seaborn as sns"
      ],
      "execution_count": null,
      "outputs": []
    },
    {
      "cell_type": "code",
      "metadata": {
        "colab": {
          "base_uri": "https://localhost:8080/"
        },
        "id": "8LcIYt4s99Gn",
        "outputId": "4c5874c6-45e6-4863-9602-5278a753e157"
      },
      "source": [
        "data=pd.read_csv(\"/content/globalterrorismdb_0718dist.csv\",encoding='latin-1')"
      ],
      "execution_count": null,
      "outputs": [
        {
          "output_type": "stream",
          "name": "stderr",
          "text": [
            "/usr/local/lib/python3.7/dist-packages/IPython/core/interactiveshell.py:2718: DtypeWarning: Columns (4,31,33,61,62,76,79,90,92,94,96,121) have mixed types.Specify dtype option on import or set low_memory=False.\n",
            "  interactivity=interactivity, compiler=compiler, result=result)\n"
          ]
        }
      ]
    },
    {
      "cell_type": "code",
      "metadata": {
        "colab": {
          "base_uri": "https://localhost:8080/"
        },
        "id": "Xr3ugsOF-eHI",
        "outputId": "20b9e236-2a26-4601-9413-9d45dd1ed52f"
      },
      "source": [
        "data.head"
      ],
      "execution_count": null,
      "outputs": [
        {
          "output_type": "execute_result",
          "data": {
            "text/plain": [
              "<bound method NDFrame.head of             eventid  iyear  imonth  iday  ... INT_IDEO  INT_MISC INT_ANY  related\n",
              "0      197000000001   1970       7     2  ...      0.0       0.0     0.0      NaN\n",
              "1      197000000002   1970       0     0  ...      1.0       1.0     1.0      NaN\n",
              "2      197001000001   1970       1     0  ...     -9.0       1.0     1.0      NaN\n",
              "3      197001000002   1970       1     0  ...     -9.0       1.0     1.0      NaN\n",
              "4      197001000003   1970       1     0  ...     -9.0       1.0     1.0      NaN\n",
              "...             ...    ...     ...   ...  ...      ...       ...     ...      ...\n",
              "65035  199703260004   1997       3    26  ...     -9.0       0.0    -9.0      NaN\n",
              "65036  199703260005   1997       3    26  ...     -9.0       0.0    -9.0      NaN\n",
              "65037  199703260006   1997       3    26  ...     -9.0       1.0     1.0      NaN\n",
              "65038  199703260007   1997       3    26  ...     -9.0       0.0    -9.0      NaN\n",
              "65039  199703260008   1997       3    26  ...      NaN       NaN     NaN      NaN\n",
              "\n",
              "[65040 rows x 135 columns]>"
            ]
          },
          "metadata": {},
          "execution_count": 5
        }
      ]
    },
    {
      "cell_type": "code",
      "metadata": {
        "colab": {
          "base_uri": "https://localhost:8080/"
        },
        "id": "CeJHWT5i-rHg",
        "outputId": "71a5ebd1-b92a-4e50-cd15-df5b193379df"
      },
      "source": [
        "data.tail"
      ],
      "execution_count": null,
      "outputs": [
        {
          "output_type": "execute_result",
          "data": {
            "text/plain": [
              "<bound method NDFrame.tail of             eventid  iyear  imonth  iday  ... INT_IDEO  INT_MISC INT_ANY  related\n",
              "0      197000000001   1970       7     2  ...      0.0       0.0     0.0      NaN\n",
              "1      197000000002   1970       0     0  ...      1.0       1.0     1.0      NaN\n",
              "2      197001000001   1970       1     0  ...     -9.0       1.0     1.0      NaN\n",
              "3      197001000002   1970       1     0  ...     -9.0       1.0     1.0      NaN\n",
              "4      197001000003   1970       1     0  ...     -9.0       1.0     1.0      NaN\n",
              "...             ...    ...     ...   ...  ...      ...       ...     ...      ...\n",
              "65035  199703260004   1997       3    26  ...     -9.0       0.0    -9.0      NaN\n",
              "65036  199703260005   1997       3    26  ...     -9.0       0.0    -9.0      NaN\n",
              "65037  199703260006   1997       3    26  ...     -9.0       1.0     1.0      NaN\n",
              "65038  199703260007   1997       3    26  ...     -9.0       0.0    -9.0      NaN\n",
              "65039  199703260008   1997       3    26  ...      NaN       NaN     NaN      NaN\n",
              "\n",
              "[65040 rows x 135 columns]>"
            ]
          },
          "metadata": {},
          "execution_count": 6
        }
      ]
    },
    {
      "cell_type": "code",
      "metadata": {
        "colab": {
          "base_uri": "https://localhost:8080/"
        },
        "id": "CrUQisNr_GzH",
        "outputId": "9397d349-456d-4f46-dc6f-72a12560d84a"
      },
      "source": [
        "data.info()"
      ],
      "execution_count": null,
      "outputs": [
        {
          "output_type": "stream",
          "name": "stdout",
          "text": [
            "<class 'pandas.core.frame.DataFrame'>\n",
            "RangeIndex: 65040 entries, 0 to 65039\n",
            "Columns: 135 entries, eventid to related\n",
            "dtypes: float64(57), int64(21), object(57)\n",
            "memory usage: 67.0+ MB\n"
          ]
        }
      ]
    },
    {
      "cell_type": "code",
      "metadata": {
        "colab": {
          "base_uri": "https://localhost:8080/",
          "height": 320
        },
        "id": "6PJN3GwW_MD_",
        "outputId": "912c9956-1040-4b6d-cb3e-ff964d9ef601"
      },
      "source": [
        "data.describe()"
      ],
      "execution_count": null,
      "outputs": [
        {
          "output_type": "execute_result",
          "data": {
            "text/html": [
              "<div>\n",
              "<style scoped>\n",
              "    .dataframe tbody tr th:only-of-type {\n",
              "        vertical-align: middle;\n",
              "    }\n",
              "\n",
              "    .dataframe tbody tr th {\n",
              "        vertical-align: top;\n",
              "    }\n",
              "\n",
              "    .dataframe thead th {\n",
              "        text-align: right;\n",
              "    }\n",
              "</style>\n",
              "<table border=\"1\" class=\"dataframe\">\n",
              "  <thead>\n",
              "    <tr style=\"text-align: right;\">\n",
              "      <th></th>\n",
              "      <th>eventid</th>\n",
              "      <th>iyear</th>\n",
              "      <th>imonth</th>\n",
              "      <th>iday</th>\n",
              "      <th>extended</th>\n",
              "      <th>country</th>\n",
              "      <th>region</th>\n",
              "      <th>latitude</th>\n",
              "      <th>longitude</th>\n",
              "      <th>specificity</th>\n",
              "      <th>vicinity</th>\n",
              "      <th>crit1</th>\n",
              "      <th>crit2</th>\n",
              "      <th>crit3</th>\n",
              "      <th>doubtterr</th>\n",
              "      <th>alternative</th>\n",
              "      <th>multiple</th>\n",
              "      <th>success</th>\n",
              "      <th>suicide</th>\n",
              "      <th>attacktype1</th>\n",
              "      <th>attacktype2</th>\n",
              "      <th>attacktype3</th>\n",
              "      <th>targtype1</th>\n",
              "      <th>targsubtype1</th>\n",
              "      <th>natlty1</th>\n",
              "      <th>targtype2</th>\n",
              "      <th>targsubtype2</th>\n",
              "      <th>natlty2</th>\n",
              "      <th>targtype3</th>\n",
              "      <th>targsubtype3</th>\n",
              "      <th>natlty3</th>\n",
              "      <th>gsubname3</th>\n",
              "      <th>guncertain1</th>\n",
              "      <th>guncertain2</th>\n",
              "      <th>guncertain3</th>\n",
              "      <th>individual</th>\n",
              "      <th>nperps</th>\n",
              "      <th>nperpcap</th>\n",
              "      <th>claimed</th>\n",
              "      <th>claimmode</th>\n",
              "      <th>claim2</th>\n",
              "      <th>claimmode2</th>\n",
              "      <th>claim3</th>\n",
              "      <th>claimmode3</th>\n",
              "      <th>compclaim</th>\n",
              "      <th>weaptype1</th>\n",
              "      <th>weapsubtype1</th>\n",
              "      <th>weaptype2</th>\n",
              "      <th>weapsubtype2</th>\n",
              "      <th>weaptype3</th>\n",
              "      <th>weapsubtype3</th>\n",
              "      <th>weaptype4</th>\n",
              "      <th>weapsubtype4</th>\n",
              "      <th>nkill</th>\n",
              "      <th>nkillus</th>\n",
              "      <th>nkillter</th>\n",
              "      <th>nwound</th>\n",
              "      <th>nwoundus</th>\n",
              "      <th>nwoundte</th>\n",
              "      <th>property</th>\n",
              "      <th>propextent</th>\n",
              "      <th>propvalue</th>\n",
              "      <th>ishostkid</th>\n",
              "      <th>nhostkid</th>\n",
              "      <th>nhostkidus</th>\n",
              "      <th>nhours</th>\n",
              "      <th>ndays</th>\n",
              "      <th>ransom</th>\n",
              "      <th>ransomamt</th>\n",
              "      <th>ransomamtus</th>\n",
              "      <th>ransompaid</th>\n",
              "      <th>ransompaidus</th>\n",
              "      <th>hostkidoutcome</th>\n",
              "      <th>nreleased</th>\n",
              "      <th>INT_LOG</th>\n",
              "      <th>INT_IDEO</th>\n",
              "      <th>INT_MISC</th>\n",
              "      <th>INT_ANY</th>\n",
              "    </tr>\n",
              "  </thead>\n",
              "  <tbody>\n",
              "    <tr>\n",
              "      <th>count</th>\n",
              "      <td>6.504000e+04</td>\n",
              "      <td>65040.000000</td>\n",
              "      <td>65040.000000</td>\n",
              "      <td>65040.000000</td>\n",
              "      <td>65040.000000</td>\n",
              "      <td>65040.000000</td>\n",
              "      <td>65040.000000</td>\n",
              "      <td>61587.000000</td>\n",
              "      <td>6.158600e+04</td>\n",
              "      <td>65040.000000</td>\n",
              "      <td>65040.000000</td>\n",
              "      <td>65040.000000</td>\n",
              "      <td>65040.000000</td>\n",
              "      <td>65040.000000</td>\n",
              "      <td>65040.000000</td>\n",
              "      <td>10292.000000</td>\n",
              "      <td>65040.000000</td>\n",
              "      <td>65040.000000</td>\n",
              "      <td>65040.000000</td>\n",
              "      <td>65040.000000</td>\n",
              "      <td>51.000000</td>\n",
              "      <td>3.000000</td>\n",
              "      <td>65040.000000</td>\n",
              "      <td>61932.000000</td>\n",
              "      <td>64647.000000</td>\n",
              "      <td>724.000000</td>\n",
              "      <td>545.000000</td>\n",
              "      <td>658.000000</td>\n",
              "      <td>136.000000</td>\n",
              "      <td>110.000000</td>\n",
              "      <td>135.000000</td>\n",
              "      <td>0.0</td>\n",
              "      <td>65040.000000</td>\n",
              "      <td>146.000000</td>\n",
              "      <td>11.000000</td>\n",
              "      <td>65040.000000</td>\n",
              "      <td>9121.000000</td>\n",
              "      <td>1372.000000</td>\n",
              "      <td>1373.000000</td>\n",
              "      <td>350.000000</td>\n",
              "      <td>22.000000</td>\n",
              "      <td>18.000000</td>\n",
              "      <td>8.0</td>\n",
              "      <td>8.000000</td>\n",
              "      <td>60.000000</td>\n",
              "      <td>65040.000000</td>\n",
              "      <td>54036.000000</td>\n",
              "      <td>3403.000000</td>\n",
              "      <td>2836.000000</td>\n",
              "      <td>420.000000</td>\n",
              "      <td>360.000000</td>\n",
              "      <td>68.000000</td>\n",
              "      <td>64.00000</td>\n",
              "      <td>59038.000000</td>\n",
              "      <td>3307.000000</td>\n",
              "      <td>3195.000000</td>\n",
              "      <td>57077.000000</td>\n",
              "      <td>3252.000000</td>\n",
              "      <td>2845.000000</td>\n",
              "      <td>65039.000000</td>\n",
              "      <td>17193.000000</td>\n",
              "      <td>1.007300e+04</td>\n",
              "      <td>64864.000000</td>\n",
              "      <td>3943.000000</td>\n",
              "      <td>3941.000000</td>\n",
              "      <td>1370.000000</td>\n",
              "      <td>1078.000000</td>\n",
              "      <td>64661.000000</td>\n",
              "      <td>6.480000e+02</td>\n",
              "      <td>1.0</td>\n",
              "      <td>1.580000e+02</td>\n",
              "      <td>5.000000</td>\n",
              "      <td>1563.000000</td>\n",
              "      <td>1211.000000</td>\n",
              "      <td>65039.000000</td>\n",
              "      <td>65039.000000</td>\n",
              "      <td>65039.000000</td>\n",
              "      <td>65039.000000</td>\n",
              "    </tr>\n",
              "    <tr>\n",
              "      <th>mean</th>\n",
              "      <td>1.986538e+11</td>\n",
              "      <td>1986.472678</td>\n",
              "      <td>6.406934</td>\n",
              "      <td>15.385916</td>\n",
              "      <td>0.018696</td>\n",
              "      <td>147.699216</td>\n",
              "      <td>5.671633</td>\n",
              "      <td>18.099622</td>\n",
              "      <td>-1.412979e+03</td>\n",
              "      <td>1.431919</td>\n",
              "      <td>0.038177</td>\n",
              "      <td>0.987623</td>\n",
              "      <td>0.989468</td>\n",
              "      <td>0.867205</td>\n",
              "      <td>-1.616913</td>\n",
              "      <td>1.223377</td>\n",
              "      <td>0.103429</td>\n",
              "      <td>0.915621</td>\n",
              "      <td>0.001430</td>\n",
              "      <td>3.065775</td>\n",
              "      <td>4.176471</td>\n",
              "      <td>4.333333</td>\n",
              "      <td>7.854997</td>\n",
              "      <td>45.327052</td>\n",
              "      <td>128.661036</td>\n",
              "      <td>9.515193</td>\n",
              "      <td>49.878899</td>\n",
              "      <td>161.603343</td>\n",
              "      <td>9.463235</td>\n",
              "      <td>58.327273</td>\n",
              "      <td>132.807407</td>\n",
              "      <td>NaN</td>\n",
              "      <td>0.044819</td>\n",
              "      <td>0.184932</td>\n",
              "      <td>0.090909</td>\n",
              "      <td>0.001522</td>\n",
              "      <td>55.058217</td>\n",
              "      <td>-68.956268</td>\n",
              "      <td>-0.009468</td>\n",
              "      <td>4.491429</td>\n",
              "      <td>0.818182</td>\n",
              "      <td>5.611111</td>\n",
              "      <td>1.0</td>\n",
              "      <td>8.000000</td>\n",
              "      <td>0.150000</td>\n",
              "      <td>6.507073</td>\n",
              "      <td>10.010049</td>\n",
              "      <td>6.470467</td>\n",
              "      <td>10.108251</td>\n",
              "      <td>6.619048</td>\n",
              "      <td>10.141667</td>\n",
              "      <td>6.323529</td>\n",
              "      <td>10.75000</td>\n",
              "      <td>2.086216</td>\n",
              "      <td>0.345026</td>\n",
              "      <td>0.594992</td>\n",
              "      <td>2.019850</td>\n",
              "      <td>0.837946</td>\n",
              "      <td>0.081547</td>\n",
              "      <td>0.723335</td>\n",
              "      <td>3.378526</td>\n",
              "      <td>6.979196e+05</td>\n",
              "      <td>0.060789</td>\n",
              "      <td>2.721278</td>\n",
              "      <td>0.078660</td>\n",
              "      <td>12.044526</td>\n",
              "      <td>29.423933</td>\n",
              "      <td>0.010284</td>\n",
              "      <td>3.446989e+06</td>\n",
              "      <td>20000.0</td>\n",
              "      <td>1.292990e+06</td>\n",
              "      <td>13395.000000</td>\n",
              "      <td>3.125400</td>\n",
              "      <td>7.345169</td>\n",
              "      <td>-3.603669</td>\n",
              "      <td>-3.564246</td>\n",
              "      <td>0.129891</td>\n",
              "      <td>-2.833254</td>\n",
              "    </tr>\n",
              "    <tr>\n",
              "      <th>std</th>\n",
              "      <td>6.294811e+08</td>\n",
              "      <td>6.295121</td>\n",
              "      <td>3.413418</td>\n",
              "      <td>8.798869</td>\n",
              "      <td>0.135451</td>\n",
              "      <td>133.960460</td>\n",
              "      <td>3.199757</td>\n",
              "      <td>24.519115</td>\n",
              "      <td>3.472923e+05</td>\n",
              "      <td>1.109612</td>\n",
              "      <td>0.191624</td>\n",
              "      <td>0.110562</td>\n",
              "      <td>0.102084</td>\n",
              "      <td>0.339356</td>\n",
              "      <td>3.676930</td>\n",
              "      <td>0.546315</td>\n",
              "      <td>0.304520</td>\n",
              "      <td>0.277957</td>\n",
              "      <td>0.037787</td>\n",
              "      <td>1.972343</td>\n",
              "      <td>2.372390</td>\n",
              "      <td>2.516611</td>\n",
              "      <td>6.819713</td>\n",
              "      <td>33.154699</td>\n",
              "      <td>75.833330</td>\n",
              "      <td>6.747043</td>\n",
              "      <td>30.719677</td>\n",
              "      <td>106.898175</td>\n",
              "      <td>6.183500</td>\n",
              "      <td>30.395892</td>\n",
              "      <td>74.101836</td>\n",
              "      <td>NaN</td>\n",
              "      <td>0.206907</td>\n",
              "      <td>0.389578</td>\n",
              "      <td>0.301511</td>\n",
              "      <td>0.038985</td>\n",
              "      <td>715.040469</td>\n",
              "      <td>46.131953</td>\n",
              "      <td>1.616893</td>\n",
              "      <td>3.111801</td>\n",
              "      <td>0.394771</td>\n",
              "      <td>3.821593</td>\n",
              "      <td>0.0</td>\n",
              "      <td>2.828427</td>\n",
              "      <td>0.360085</td>\n",
              "      <td>2.296523</td>\n",
              "      <td>7.092600</td>\n",
              "      <td>1.785514</td>\n",
              "      <td>7.329623</td>\n",
              "      <td>2.114304</td>\n",
              "      <td>7.820011</td>\n",
              "      <td>1.530205</td>\n",
              "      <td>7.84978</td>\n",
              "      <td>9.680797</td>\n",
              "      <td>6.155362</td>\n",
              "      <td>3.172060</td>\n",
              "      <td>26.394623</td>\n",
              "      <td>17.796429</td>\n",
              "      <td>1.006847</td>\n",
              "      <td>0.583000</td>\n",
              "      <td>0.518871</td>\n",
              "      <td>3.028208e+07</td>\n",
              "      <td>0.238944</td>\n",
              "      <td>348.985125</td>\n",
              "      <td>3.756808</td>\n",
              "      <td>107.600324</td>\n",
              "      <td>128.792302</td>\n",
              "      <td>0.100890</td>\n",
              "      <td>4.007282e+07</td>\n",
              "      <td>NaN</td>\n",
              "      <td>4.659857e+06</td>\n",
              "      <td>18683.535533</td>\n",
              "      <td>1.461285</td>\n",
              "      <td>34.929512</td>\n",
              "      <td>4.474640</td>\n",
              "      <td>4.526861</td>\n",
              "      <td>0.791463</td>\n",
              "      <td>4.471308</td>\n",
              "    </tr>\n",
              "    <tr>\n",
              "      <th>min</th>\n",
              "      <td>1.970000e+11</td>\n",
              "      <td>1970.000000</td>\n",
              "      <td>0.000000</td>\n",
              "      <td>0.000000</td>\n",
              "      <td>0.000000</td>\n",
              "      <td>4.000000</td>\n",
              "      <td>1.000000</td>\n",
              "      <td>-53.154613</td>\n",
              "      <td>-8.618590e+07</td>\n",
              "      <td>1.000000</td>\n",
              "      <td>0.000000</td>\n",
              "      <td>0.000000</td>\n",
              "      <td>0.000000</td>\n",
              "      <td>0.000000</td>\n",
              "      <td>-9.000000</td>\n",
              "      <td>1.000000</td>\n",
              "      <td>0.000000</td>\n",
              "      <td>0.000000</td>\n",
              "      <td>0.000000</td>\n",
              "      <td>1.000000</td>\n",
              "      <td>2.000000</td>\n",
              "      <td>2.000000</td>\n",
              "      <td>1.000000</td>\n",
              "      <td>1.000000</td>\n",
              "      <td>4.000000</td>\n",
              "      <td>1.000000</td>\n",
              "      <td>1.000000</td>\n",
              "      <td>4.000000</td>\n",
              "      <td>1.000000</td>\n",
              "      <td>1.000000</td>\n",
              "      <td>4.000000</td>\n",
              "      <td>NaN</td>\n",
              "      <td>0.000000</td>\n",
              "      <td>0.000000</td>\n",
              "      <td>0.000000</td>\n",
              "      <td>0.000000</td>\n",
              "      <td>-99.000000</td>\n",
              "      <td>-99.000000</td>\n",
              "      <td>-9.000000</td>\n",
              "      <td>1.000000</td>\n",
              "      <td>0.000000</td>\n",
              "      <td>1.000000</td>\n",
              "      <td>1.0</td>\n",
              "      <td>1.000000</td>\n",
              "      <td>0.000000</td>\n",
              "      <td>1.000000</td>\n",
              "      <td>1.000000</td>\n",
              "      <td>2.000000</td>\n",
              "      <td>2.000000</td>\n",
              "      <td>2.000000</td>\n",
              "      <td>2.000000</td>\n",
              "      <td>5.000000</td>\n",
              "      <td>2.00000</td>\n",
              "      <td>0.000000</td>\n",
              "      <td>0.000000</td>\n",
              "      <td>0.000000</td>\n",
              "      <td>0.000000</td>\n",
              "      <td>0.000000</td>\n",
              "      <td>0.000000</td>\n",
              "      <td>-9.000000</td>\n",
              "      <td>1.000000</td>\n",
              "      <td>-9.900000e+01</td>\n",
              "      <td>0.000000</td>\n",
              "      <td>-99.000000</td>\n",
              "      <td>-99.000000</td>\n",
              "      <td>-99.000000</td>\n",
              "      <td>-99.000000</td>\n",
              "      <td>0.000000</td>\n",
              "      <td>0.000000e+00</td>\n",
              "      <td>20000.0</td>\n",
              "      <td>0.000000e+00</td>\n",
              "      <td>0.000000</td>\n",
              "      <td>2.000000</td>\n",
              "      <td>-99.000000</td>\n",
              "      <td>-9.000000</td>\n",
              "      <td>-9.000000</td>\n",
              "      <td>-9.000000</td>\n",
              "      <td>-9.000000</td>\n",
              "    </tr>\n",
              "    <tr>\n",
              "      <th>25%</th>\n",
              "      <td>1.982052e+11</td>\n",
              "      <td>1982.000000</td>\n",
              "      <td>3.000000</td>\n",
              "      <td>8.000000</td>\n",
              "      <td>0.000000</td>\n",
              "      <td>61.000000</td>\n",
              "      <td>3.000000</td>\n",
              "      <td>5.454860</td>\n",
              "      <td>-7.572938e+01</td>\n",
              "      <td>1.000000</td>\n",
              "      <td>0.000000</td>\n",
              "      <td>1.000000</td>\n",
              "      <td>1.000000</td>\n",
              "      <td>1.000000</td>\n",
              "      <td>0.000000</td>\n",
              "      <td>1.000000</td>\n",
              "      <td>0.000000</td>\n",
              "      <td>1.000000</td>\n",
              "      <td>0.000000</td>\n",
              "      <td>2.000000</td>\n",
              "      <td>2.000000</td>\n",
              "      <td>3.000000</td>\n",
              "      <td>2.000000</td>\n",
              "      <td>21.000000</td>\n",
              "      <td>61.000000</td>\n",
              "      <td>2.000000</td>\n",
              "      <td>23.000000</td>\n",
              "      <td>89.000000</td>\n",
              "      <td>2.000000</td>\n",
              "      <td>25.000000</td>\n",
              "      <td>91.000000</td>\n",
              "      <td>NaN</td>\n",
              "      <td>0.000000</td>\n",
              "      <td>0.000000</td>\n",
              "      <td>0.000000</td>\n",
              "      <td>0.000000</td>\n",
              "      <td>2.000000</td>\n",
              "      <td>-99.000000</td>\n",
              "      <td>0.000000</td>\n",
              "      <td>2.000000</td>\n",
              "      <td>1.000000</td>\n",
              "      <td>2.000000</td>\n",
              "      <td>1.0</td>\n",
              "      <td>9.000000</td>\n",
              "      <td>0.000000</td>\n",
              "      <td>5.000000</td>\n",
              "      <td>2.000000</td>\n",
              "      <td>5.000000</td>\n",
              "      <td>3.000000</td>\n",
              "      <td>5.000000</td>\n",
              "      <td>3.000000</td>\n",
              "      <td>5.000000</td>\n",
              "      <td>3.00000</td>\n",
              "      <td>0.000000</td>\n",
              "      <td>0.000000</td>\n",
              "      <td>0.000000</td>\n",
              "      <td>0.000000</td>\n",
              "      <td>0.000000</td>\n",
              "      <td>0.000000</td>\n",
              "      <td>0.000000</td>\n",
              "      <td>3.000000</td>\n",
              "      <td>5.000000e+03</td>\n",
              "      <td>0.000000</td>\n",
              "      <td>1.000000</td>\n",
              "      <td>0.000000</td>\n",
              "      <td>0.000000</td>\n",
              "      <td>1.000000</td>\n",
              "      <td>0.000000</td>\n",
              "      <td>0.000000e+00</td>\n",
              "      <td>20000.0</td>\n",
              "      <td>0.000000e+00</td>\n",
              "      <td>0.000000</td>\n",
              "      <td>2.000000</td>\n",
              "      <td>1.000000</td>\n",
              "      <td>-9.000000</td>\n",
              "      <td>-9.000000</td>\n",
              "      <td>0.000000</td>\n",
              "      <td>-9.000000</td>\n",
              "    </tr>\n",
              "    <tr>\n",
              "      <th>50%</th>\n",
              "      <td>1.987103e+11</td>\n",
              "      <td>1987.000000</td>\n",
              "      <td>6.000000</td>\n",
              "      <td>15.000000</td>\n",
              "      <td>0.000000</td>\n",
              "      <td>110.000000</td>\n",
              "      <td>6.000000</td>\n",
              "      <td>14.973849</td>\n",
              "      <td>-3.823300e+00</td>\n",
              "      <td>1.000000</td>\n",
              "      <td>0.000000</td>\n",
              "      <td>1.000000</td>\n",
              "      <td>1.000000</td>\n",
              "      <td>1.000000</td>\n",
              "      <td>0.000000</td>\n",
              "      <td>1.000000</td>\n",
              "      <td>0.000000</td>\n",
              "      <td>1.000000</td>\n",
              "      <td>0.000000</td>\n",
              "      <td>3.000000</td>\n",
              "      <td>3.000000</td>\n",
              "      <td>4.000000</td>\n",
              "      <td>4.000000</td>\n",
              "      <td>29.000000</td>\n",
              "      <td>137.000000</td>\n",
              "      <td>10.000000</td>\n",
              "      <td>49.000000</td>\n",
              "      <td>160.000000</td>\n",
              "      <td>12.000000</td>\n",
              "      <td>67.000000</td>\n",
              "      <td>98.000000</td>\n",
              "      <td>NaN</td>\n",
              "      <td>0.000000</td>\n",
              "      <td>0.000000</td>\n",
              "      <td>0.000000</td>\n",
              "      <td>0.000000</td>\n",
              "      <td>3.000000</td>\n",
              "      <td>-99.000000</td>\n",
              "      <td>0.000000</td>\n",
              "      <td>5.000000</td>\n",
              "      <td>1.000000</td>\n",
              "      <td>7.000000</td>\n",
              "      <td>1.0</td>\n",
              "      <td>9.000000</td>\n",
              "      <td>0.000000</td>\n",
              "      <td>6.000000</td>\n",
              "      <td>11.000000</td>\n",
              "      <td>6.000000</td>\n",
              "      <td>7.000000</td>\n",
              "      <td>6.000000</td>\n",
              "      <td>7.000000</td>\n",
              "      <td>6.000000</td>\n",
              "      <td>11.00000</td>\n",
              "      <td>0.000000</td>\n",
              "      <td>0.000000</td>\n",
              "      <td>0.000000</td>\n",
              "      <td>0.000000</td>\n",
              "      <td>0.000000</td>\n",
              "      <td>0.000000</td>\n",
              "      <td>1.000000</td>\n",
              "      <td>3.000000</td>\n",
              "      <td>2.000000e+04</td>\n",
              "      <td>0.000000</td>\n",
              "      <td>1.000000</td>\n",
              "      <td>0.000000</td>\n",
              "      <td>0.000000</td>\n",
              "      <td>3.000000</td>\n",
              "      <td>0.000000</td>\n",
              "      <td>2.000000e+04</td>\n",
              "      <td>20000.0</td>\n",
              "      <td>3.135000e+04</td>\n",
              "      <td>650.000000</td>\n",
              "      <td>2.000000</td>\n",
              "      <td>1.000000</td>\n",
              "      <td>0.000000</td>\n",
              "      <td>0.000000</td>\n",
              "      <td>0.000000</td>\n",
              "      <td>0.000000</td>\n",
              "    </tr>\n",
              "    <tr>\n",
              "      <th>75%</th>\n",
              "      <td>1.991103e+11</td>\n",
              "      <td>1991.000000</td>\n",
              "      <td>9.000000</td>\n",
              "      <td>23.000000</td>\n",
              "      <td>0.000000</td>\n",
              "      <td>183.000000</td>\n",
              "      <td>8.000000</td>\n",
              "      <td>38.395649</td>\n",
              "      <td>3.481189e+01</td>\n",
              "      <td>1.000000</td>\n",
              "      <td>0.000000</td>\n",
              "      <td>1.000000</td>\n",
              "      <td>1.000000</td>\n",
              "      <td>1.000000</td>\n",
              "      <td>0.000000</td>\n",
              "      <td>1.000000</td>\n",
              "      <td>0.000000</td>\n",
              "      <td>1.000000</td>\n",
              "      <td>0.000000</td>\n",
              "      <td>3.000000</td>\n",
              "      <td>7.000000</td>\n",
              "      <td>5.500000</td>\n",
              "      <td>14.000000</td>\n",
              "      <td>75.000000</td>\n",
              "      <td>185.000000</td>\n",
              "      <td>14.000000</td>\n",
              "      <td>77.000000</td>\n",
              "      <td>217.000000</td>\n",
              "      <td>15.000000</td>\n",
              "      <td>87.000000</td>\n",
              "      <td>182.500000</td>\n",
              "      <td>NaN</td>\n",
              "      <td>0.000000</td>\n",
              "      <td>0.000000</td>\n",
              "      <td>0.000000</td>\n",
              "      <td>0.000000</td>\n",
              "      <td>8.000000</td>\n",
              "      <td>0.000000</td>\n",
              "      <td>1.000000</td>\n",
              "      <td>8.000000</td>\n",
              "      <td>1.000000</td>\n",
              "      <td>9.000000</td>\n",
              "      <td>1.0</td>\n",
              "      <td>9.000000</td>\n",
              "      <td>0.000000</td>\n",
              "      <td>6.000000</td>\n",
              "      <td>16.000000</td>\n",
              "      <td>8.000000</td>\n",
              "      <td>16.000000</td>\n",
              "      <td>8.000000</td>\n",
              "      <td>16.000000</td>\n",
              "      <td>8.000000</td>\n",
              "      <td>16.00000</td>\n",
              "      <td>1.000000</td>\n",
              "      <td>0.000000</td>\n",
              "      <td>0.000000</td>\n",
              "      <td>0.000000</td>\n",
              "      <td>0.000000</td>\n",
              "      <td>0.000000</td>\n",
              "      <td>1.000000</td>\n",
              "      <td>4.000000</td>\n",
              "      <td>5.000000e+04</td>\n",
              "      <td>0.000000</td>\n",
              "      <td>3.000000</td>\n",
              "      <td>0.000000</td>\n",
              "      <td>0.000000</td>\n",
              "      <td>12.000000</td>\n",
              "      <td>0.000000</td>\n",
              "      <td>5.612500e+05</td>\n",
              "      <td>20000.0</td>\n",
              "      <td>4.060000e+05</td>\n",
              "      <td>26325.000000</td>\n",
              "      <td>4.000000</td>\n",
              "      <td>3.000000</td>\n",
              "      <td>0.000000</td>\n",
              "      <td>0.000000</td>\n",
              "      <td>0.000000</td>\n",
              "      <td>1.000000</td>\n",
              "    </tr>\n",
              "    <tr>\n",
              "      <th>max</th>\n",
              "      <td>1.997033e+11</td>\n",
              "      <td>1997.000000</td>\n",
              "      <td>12.000000</td>\n",
              "      <td>31.000000</td>\n",
              "      <td>1.000000</td>\n",
              "      <td>605.000000</td>\n",
              "      <td>12.000000</td>\n",
              "      <td>64.837778</td>\n",
              "      <td>1.784419e+02</td>\n",
              "      <td>5.000000</td>\n",
              "      <td>1.000000</td>\n",
              "      <td>1.000000</td>\n",
              "      <td>1.000000</td>\n",
              "      <td>1.000000</td>\n",
              "      <td>1.000000</td>\n",
              "      <td>5.000000</td>\n",
              "      <td>1.000000</td>\n",
              "      <td>1.000000</td>\n",
              "      <td>1.000000</td>\n",
              "      <td>9.000000</td>\n",
              "      <td>7.000000</td>\n",
              "      <td>7.000000</td>\n",
              "      <td>22.000000</td>\n",
              "      <td>113.000000</td>\n",
              "      <td>1001.000000</td>\n",
              "      <td>22.000000</td>\n",
              "      <td>108.000000</td>\n",
              "      <td>999.000000</td>\n",
              "      <td>22.000000</td>\n",
              "      <td>108.000000</td>\n",
              "      <td>422.000000</td>\n",
              "      <td>NaN</td>\n",
              "      <td>1.000000</td>\n",
              "      <td>1.000000</td>\n",
              "      <td>1.000000</td>\n",
              "      <td>1.000000</td>\n",
              "      <td>25000.000000</td>\n",
              "      <td>26.000000</td>\n",
              "      <td>1.000000</td>\n",
              "      <td>10.000000</td>\n",
              "      <td>1.000000</td>\n",
              "      <td>10.000000</td>\n",
              "      <td>1.0</td>\n",
              "      <td>9.000000</td>\n",
              "      <td>1.000000</td>\n",
              "      <td>13.000000</td>\n",
              "      <td>31.000000</td>\n",
              "      <td>13.000000</td>\n",
              "      <td>28.000000</td>\n",
              "      <td>13.000000</td>\n",
              "      <td>28.000000</td>\n",
              "      <td>12.000000</td>\n",
              "      <td>27.00000</td>\n",
              "      <td>1180.000000</td>\n",
              "      <td>241.000000</td>\n",
              "      <td>85.000000</td>\n",
              "      <td>5500.000000</td>\n",
              "      <td>751.000000</td>\n",
              "      <td>50.000000</td>\n",
              "      <td>1.000000</td>\n",
              "      <td>4.000000</td>\n",
              "      <td>2.700000e+09</td>\n",
              "      <td>1.000000</td>\n",
              "      <td>17000.000000</td>\n",
              "      <td>70.000000</td>\n",
              "      <td>999.000000</td>\n",
              "      <td>2454.000000</td>\n",
              "      <td>1.000000</td>\n",
              "      <td>1.000000e+09</td>\n",
              "      <td>20000.0</td>\n",
              "      <td>4.100000e+07</td>\n",
              "      <td>40000.000000</td>\n",
              "      <td>7.000000</td>\n",
              "      <td>390.000000</td>\n",
              "      <td>1.000000</td>\n",
              "      <td>1.000000</td>\n",
              "      <td>1.000000</td>\n",
              "      <td>1.000000</td>\n",
              "    </tr>\n",
              "  </tbody>\n",
              "</table>\n",
              "</div>"
            ],
            "text/plain": [
              "            eventid         iyear  ...      INT_MISC       INT_ANY\n",
              "count  6.504000e+04  65040.000000  ...  65039.000000  65039.000000\n",
              "mean   1.986538e+11   1986.472678  ...      0.129891     -2.833254\n",
              "std    6.294811e+08      6.295121  ...      0.791463      4.471308\n",
              "min    1.970000e+11   1970.000000  ...     -9.000000     -9.000000\n",
              "25%    1.982052e+11   1982.000000  ...      0.000000     -9.000000\n",
              "50%    1.987103e+11   1987.000000  ...      0.000000      0.000000\n",
              "75%    1.991103e+11   1991.000000  ...      0.000000      1.000000\n",
              "max    1.997033e+11   1997.000000  ...      1.000000      1.000000\n",
              "\n",
              "[8 rows x 78 columns]"
            ]
          },
          "metadata": {},
          "execution_count": 8
        }
      ]
    },
    {
      "cell_type": "code",
      "metadata": {
        "colab": {
          "base_uri": "https://localhost:8080/",
          "height": 283
        },
        "id": "j1HrI3aJ_OwA",
        "outputId": "7044710f-3478-42b6-989e-bc3c91455034"
      },
      "source": [
        "data['iyear'].hist()"
      ],
      "execution_count": null,
      "outputs": [
        {
          "output_type": "execute_result",
          "data": {
            "text/plain": [
              "<matplotlib.axes._subplots.AxesSubplot at 0x7f10e6b62550>"
            ]
          },
          "metadata": {},
          "execution_count": 9
        },
        {
          "output_type": "display_data",
          "data": {
            "image/png": "[encoded data removed]",
            "text/plain": [
              "<Figure size 432x288 with 1 Axes>"
            ]
          },
          "metadata": {
            "needs_background": "light"
          }
        }
      ]
    },
    {
      "cell_type": "code",
      "metadata": {
        "colab": {
          "base_uri": "https://localhost:8080/",
          "height": 279
        },
        "id": "uMrwO5_3_Xh4",
        "outputId": "4def29f0-84be-44f1-84d8-8f8ad4469f89"
      },
      "source": [
        "sns.lineplot(data=data['iyear'])\n",
        "plt.ylabel('attack type')\n",
        "plt.xlabel(' total attack on the attack type')\n",
        "plt.show()"
      ],
      "execution_count": null,
      "outputs": [
        {
          "output_type": "display_data",
          "data": {
            "image/png": "[encoded data removed]",
            "text/plain": [
              "<Figure size 432x288 with 1 Axes>"
            ]
          },
          "metadata": {
            "needs_background": "light"
          }
        }
      ]
    },
    {
      "cell_type": "code",
      "metadata": {
        "colab": {
          "base_uri": "https://localhost:8080/"
        },
        "id": "MA7nQfsX_7oa",
        "outputId": "3250ef27-a0c0-4657-c052-dca11e955af4"
      },
      "source": [
        "data['attacktype1'].hist"
      ],
      "execution_count": null,
      "outputs": [
        {
          "output_type": "execute_result",
          "data": {
            "text/plain": [
              "<bound method hist_series of 0        1\n",
              "1        6\n",
              "2        1\n",
              "3        3\n",
              "4        7\n",
              "        ..\n",
              "65035    2\n",
              "65036    2\n",
              "65037    3\n",
              "65038    2\n",
              "65039    6\n",
              "Name: attacktype1, Length: 65040, dtype: int64>"
            ]
          },
          "metadata": {},
          "execution_count": 11
        }
      ]
    },
    {
      "cell_type": "code",
      "metadata": {
        "colab": {
          "base_uri": "https://localhost:8080/",
          "height": 475
        },
        "id": "H2M9hoscAAZ0",
        "outputId": "87ca6809-dd81-4d3c-e154-db5799c1200d"
      },
      "source": [
        "plt.subplots(figsize=(15,6))\n",
        "sns.countplot('iyear', data=data, palette='RdYlGn_r', edgecolor=sns.color_palette('dark',10))\n",
        "plt.xticks(rotation=90)\n",
        "plt.title('No.of terrorist activity each year')\n",
        "plt.show()"
      ],
      "execution_count": null,
      "outputs": [
        {
          "output_type": "stream",
          "name": "stderr",
          "text": [
            "/usr/local/lib/python3.7/dist-packages/seaborn/_decorators.py:43: FutureWarning: Pass the following variable as a keyword arg: x. From version 0.12, the only valid positional argument will be `data`, and passing other arguments without an explicit keyword will result in an error or misinterpretation.\n",
            "  FutureWarning\n"
          ]
        },
        {
          "output_type": "display_data",
          "data": {
            "image/png": "[encoded data removed]",
            "text/plain": [
              "<Figure size 1080x432 with 1 Axes>"
            ]
          },
          "metadata": {
            "needs_background": "light"
          }
        }
      ]
    },
    {
      "cell_type": "code",
      "metadata": {
        "colab": {
          "base_uri": "https://localhost:8080/",
          "height": 279
        },
        "id": "_9FvqIReAET5",
        "outputId": "d72d5db6-5cac-42a9-bfb8-da068ce692a3"
      },
      "source": [
        "sns.countplot(data=data,y=data['attacktype1_txt'])\n",
        "plt.ylabel('attack type')\n",
        "plt.xlabel(' total attack on the attack type')\n",
        "plt.show()"
      ],
      "execution_count": null,
      "outputs": [
        {
          "output_type": "display_data",
          "data": {
            "image/png": "[encoded data removed]",
            "text/plain": [
              "<Figure size 432x288 with 1 Axes>"
            ]
          },
          "metadata": {
            "needs_background": "light"
          }
        }
      ]
    },
    {
      "cell_type": "code",
      "metadata": {
        "colab": {
          "base_uri": "https://localhost:8080/",
          "height": 279
        },
        "id": "jC_ACRdkAUSX",
        "outputId": "f77d5e8a-01b7-45ce-9fa2-72eafb8c8289"
      },
      "source": [
        "sns.countplot(data=data,y=data['targtype1_txt'])\n",
        "plt.ylabel('Target type')\n",
        "plt.xlabel(' total attack on the Target type')\n",
        "plt.show()"
      ],
      "execution_count": null,
      "outputs": [
        {
          "output_type": "display_data",
          "data": {
            "image/png": "[encoded data removed]",
            "text/plain": [
              "<Figure size 432x288 with 1 Axes>"
            ]
          },
          "metadata": {
            "needs_background": "light"
          }
        }
      ]
    },
    {
      "cell_type": "code",
      "metadata": {
        "colab": {
          "base_uri": "https://localhost:8080/",
          "height": 279
        },
        "id": "ivnoXjW2AaXv",
        "outputId": "22bef0e0-5008-4068-c686-7175821b8ac8"
      },
      "source": [
        "sns.countplot(data=data,y=data['weaptype1_txt'])\n",
        "plt.ylabel('Weapen type')\n",
        "plt.xlabel(' total attack on the Weapen type')\n",
        "plt.show()"
      ],
      "execution_count": null,
      "outputs": [
        {
          "output_type": "display_data",
          "data": {
            "image/png": "[encoded data removed]",
            "text/plain": [
              "<Figure size 432x288 with 1 Axes>"
            ]
          },
          "metadata": {
            "needs_background": "light"
          }
        }
      ]
    },
    {
      "cell_type": "code",
      "metadata": {
        "colab": {
          "base_uri": "https://localhost:8080/",
          "height": 279
        },
        "id": "dP79y38nAj9J",
        "outputId": "3c4e409e-1313-4b35-d0bd-228267ff265c"
      },
      "source": [
        "sns.countplot(data=data,y=data['region_txt'])\n",
        "plt.ylabel('regions')\n",
        "plt.xlabel(' total attack on the region')\n",
        "plt.show()"
      ],
      "execution_count": null,
      "outputs": [
        {
          "output_type": "display_data",
          "data": {
            "image/png": "[encoded data removed]",
            "text/plain": [
              "<Figure size 432x288 with 1 Axes>"
            ]
          },
          "metadata": {
            "needs_background": "light"
          }
        }
      ]
    }
  ]
}